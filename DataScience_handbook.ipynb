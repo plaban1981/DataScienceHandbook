{
  "nbformat": 4,
  "nbformat_minor": 0,
  "metadata": {
    "colab": {
      "name": "DataScience_handbook.ipynb",
      "provenance": [],
      "collapsed_sections": [],
      "authorship_tag": "ABX9TyP7t583WlL5ff0Wh5QkYhgS",
      "include_colab_link": true
    },
    "kernelspec": {
      "name": "python3",
      "display_name": "Python 3"
    },
    "accelerator": "GPU"
  },
  "cells": [
    {
      "cell_type": "markdown",
      "metadata": {
        "id": "view-in-github",
        "colab_type": "text"
      },
      "source": [
        "<a href=\"https://colab.research.google.com/github/plaban1981/DataScienceHandbook/blob/master/DataScience_handbook.ipynb\" target=\"_parent\"><img src=\"https://colab.research.google.com/assets/colab-badge.svg\" alt=\"Open In Colab\"/></a>"
      ]
    },
    {
      "cell_type": "markdown",
      "metadata": {
        "id": "_AcBoUG3yCMc",
        "colab_type": "text"
      },
      "source": [
        "## Timimg Code Execution"
      ]
    },
    {
      "cell_type": "markdown",
      "metadata": {
        "id": "nDqob5vIyT12",
        "colab_type": "text"
      },
      "source": [
        "####%timeit- automatically determine the execution time of the single line Python statement that follows it."
      ]
    },
    {
      "cell_type": "code",
      "metadata": {
        "id": "pr9u5yNYx4LZ",
        "colab_type": "code",
        "outputId": "a392889a-6338-4dd8-badf-7a0ce409a3fb",
        "colab": {
          "base_uri": "https://localhost:8080/",
          "height": 34
        }
      },
      "source": [
        "%timeit L = [n **2 for n in range(1000)]"
      ],
      "execution_count": 2,
      "outputs": [
        {
          "output_type": "stream",
          "text": [
            "1000 loops, best of 3: 220 µs per loop\n"
          ],
          "name": "stdout"
        }
      ]
    },
    {
      "cell_type": "code",
      "metadata": {
        "id": "py36KS3Z2wFn",
        "colab_type": "code",
        "colab": {}
      },
      "source": [
        "%timeit?"
      ],
      "execution_count": 0,
      "outputs": []
    },
    {
      "cell_type": "code",
      "metadata": {
        "id": "GLVMAyJD26ye",
        "colab_type": "code",
        "outputId": "6a183514-6017-4b23-bb1a-9086291327fe",
        "colab": {
          "base_uri": "https://localhost:8080/",
          "height": 156
        }
      },
      "source": [
        "%lsmagic"
      ],
      "execution_count": 4,
      "outputs": [
        {
          "output_type": "execute_result",
          "data": {
            "application/json": {
              "cell": {
                "prun": "ExecutionMagics",
                "file": "Other",
                "!": "OSMagics",
                "capture": "ExecutionMagics",
                "timeit": "ExecutionMagics",
                "script": "ScriptMagics",
                "pypy": "Other",
                "system": "OSMagics",
                "perl": "Other",
                "html": "DisplayMagics",
                "bash": "Other",
                "shell": "Other",
                "HTML": "Other",
                "python": "Other",
                "SVG": "Other",
                "javascript": "DisplayMagics",
                "bigquery": "Other",
                "js": "DisplayMagics",
                "writefile": "OSMagics",
                "ruby": "Other",
                "python3": "Other",
                "python2": "Other",
                "latex": "DisplayMagics",
                "sx": "OSMagics",
                "svg": "DisplayMagics",
                "sh": "Other",
                "time": "ExecutionMagics",
                "debug": "ExecutionMagics"
              },
              "line": {
                "psource": "NamespaceMagics",
                "logstart": "LoggingMagics",
                "popd": "OSMagics",
                "tensorflow_version": "Other",
                "loadpy": "CodeMagics",
                "colors": "BasicMagics",
                "who_ls": "NamespaceMagics",
                "lf": "Other",
                "ll": "Other",
                "pprint": "BasicMagics",
                "lk": "Other",
                "ls": "Other",
                "save": "CodeMagics",
                "tb": "ExecutionMagics",
                "lx": "Other",
                "pylab": "PylabMagics",
                "killbgscripts": "ScriptMagics",
                "quickref": "BasicMagics",
                "magic": "BasicMagics",
                "dhist": "OSMagics",
                "edit": "KernelMagics",
                "logstop": "LoggingMagics",
                "gui": "BasicMagics",
                "prun": "ExecutionMagics",
                "debug": "ExecutionMagics",
                "page": "BasicMagics",
                "logstate": "LoggingMagics",
                "ed": "Other",
                "pushd": "OSMagics",
                "timeit": "ExecutionMagics",
                "set_env": "OSMagics",
                "rehashx": "OSMagics",
                "hist": "Other",
                "qtconsole": "KernelMagics",
                "rm": "Other",
                "dirs": "OSMagics",
                "run": "ExecutionMagics",
                "reset_selective": "NamespaceMagics",
                "pinfo2": "NamespaceMagics",
                "matplotlib": "PylabMagics",
                "unload_ext": "ExtensionMagics",
                "doctest_mode": "BasicMagics",
                "logoff": "LoggingMagics",
                "reload_ext": "ExtensionMagics",
                "pdb": "ExecutionMagics",
                "load": "CodeMagics",
                "lsmagic": "BasicMagics",
                "autosave": "KernelMagics",
                "cd": "OSMagics",
                "pastebin": "CodeMagics",
                "alias_magic": "BasicMagics",
                "cp": "Other",
                "autocall": "AutoMagics",
                "ldir": "Other",
                "bookmark": "OSMagics",
                "connect_info": "KernelMagics",
                "mkdir": "Other",
                "system": "OSMagics",
                "whos": "NamespaceMagics",
                "rmdir": "Other",
                "automagic": "AutoMagics",
                "store": "StoreMagics",
                "more": "KernelMagics",
                "shell": "Other",
                "pdef": "NamespaceMagics",
                "precision": "BasicMagics",
                "pinfo": "NamespaceMagics",
                "pwd": "OSMagics",
                "psearch": "NamespaceMagics",
                "reset": "NamespaceMagics",
                "recall": "HistoryMagics",
                "xdel": "NamespaceMagics",
                "xmode": "BasicMagics",
                "cat": "Other",
                "mv": "Other",
                "rerun": "HistoryMagics",
                "logon": "LoggingMagics",
                "history": "HistoryMagics",
                "pycat": "OSMagics",
                "pip": "Other",
                "unalias": "OSMagics",
                "env": "OSMagics",
                "load_ext": "ExtensionMagics",
                "config": "ConfigMagics",
                "profile": "BasicMagics",
                "pfile": "NamespaceMagics",
                "less": "KernelMagics",
                "who": "NamespaceMagics",
                "notebook": "BasicMagics",
                "man": "KernelMagics",
                "sx": "OSMagics",
                "macro": "ExecutionMagics",
                "clear": "KernelMagics",
                "alias": "OSMagics",
                "time": "ExecutionMagics",
                "sc": "OSMagics",
                "rep": "Other",
                "pdoc": "NamespaceMagics"
              }
            },
            "text/plain": [
              "Available line magics:\n",
              "%alias  %alias_magic  %autocall  %automagic  %autosave  %bookmark  %cat  %cd  %clear  %colors  %config  %connect_info  %cp  %debug  %dhist  %dirs  %doctest_mode  %ed  %edit  %env  %gui  %hist  %history  %killbgscripts  %ldir  %less  %lf  %lk  %ll  %load  %load_ext  %loadpy  %logoff  %logon  %logstart  %logstate  %logstop  %ls  %lsmagic  %lx  %macro  %magic  %man  %matplotlib  %mkdir  %more  %mv  %notebook  %page  %pastebin  %pdb  %pdef  %pdoc  %pfile  %pinfo  %pinfo2  %pip  %popd  %pprint  %precision  %profile  %prun  %psearch  %psource  %pushd  %pwd  %pycat  %pylab  %qtconsole  %quickref  %recall  %rehashx  %reload_ext  %rep  %rerun  %reset  %reset_selective  %rm  %rmdir  %run  %save  %sc  %set_env  %shell  %store  %sx  %system  %tb  %tensorflow_version  %time  %timeit  %unalias  %unload_ext  %who  %who_ls  %whos  %xdel  %xmode\n",
              "\n",
              "Available cell magics:\n",
              "%%!  %%HTML  %%SVG  %%bash  %%bigquery  %%capture  %%debug  %%file  %%html  %%javascript  %%js  %%latex  %%perl  %%prun  %%pypy  %%python  %%python2  %%python3  %%ruby  %%script  %%sh  %%shell  %%svg  %%sx  %%system  %%time  %%timeit  %%writefile\n",
              "\n",
              "Automagic is ON, % prefix IS NOT needed for line magics."
            ]
          },
          "metadata": {
            "tags": []
          },
          "execution_count": 4
        }
      ]
    },
    {
      "cell_type": "code",
      "metadata": {
        "id": "rjdlMzUQ3Bvd",
        "colab_type": "code",
        "outputId": "9f5bf24c-2a23-45b8-e1cc-d8596179d2c3",
        "colab": {
          "base_uri": "https://localhost:8080/",
          "height": 34
        }
      },
      "source": [
        "import math\n",
        "math.sin(2)"
      ],
      "execution_count": 5,
      "outputs": [
        {
          "output_type": "execute_result",
          "data": {
            "text/plain": [
              "0.9092974268256817"
            ]
          },
          "metadata": {
            "tags": []
          },
          "execution_count": 5
        }
      ]
    },
    {
      "cell_type": "code",
      "metadata": {
        "id": "GTGfzF4r3PGs",
        "colab_type": "code",
        "outputId": "a42ded87-2a44-46df-f0f1-00963fdd7bec",
        "colab": {
          "base_uri": "https://localhost:8080/",
          "height": 34
        }
      },
      "source": [
        "math.cos(2)"
      ],
      "execution_count": 6,
      "outputs": [
        {
          "output_type": "execute_result",
          "data": {
            "text/plain": [
              "-0.4161468365471424"
            ]
          },
          "metadata": {
            "tags": []
          },
          "execution_count": 6
        }
      ]
    },
    {
      "cell_type": "markdown",
      "metadata": {
        "id": "jOd5cldx36IU",
        "colab_type": "text"
      },
      "source": [
        "## Underscore Shortcuts and Previous Outputs"
      ]
    },
    {
      "cell_type": "code",
      "metadata": {
        "id": "HeEylzpj3_pX",
        "colab_type": "code",
        "outputId": "1cdb40cf-18f2-4978-d7d9-d060d22dd220",
        "colab": {
          "base_uri": "https://localhost:8080/",
          "height": 34
        }
      },
      "source": [
        "print(_)# single underscore to access previous output"
      ],
      "execution_count": 7,
      "outputs": [
        {
          "output_type": "stream",
          "text": [
            "-0.4161468365471424\n"
          ],
          "name": "stdout"
        }
      ]
    },
    {
      "cell_type": "code",
      "metadata": {
        "id": "mVbHrCFS6CNi",
        "colab_type": "code",
        "outputId": "dd608898-334b-4c26-98e0-aec33f882f55",
        "colab": {
          "base_uri": "https://localhost:8080/",
          "height": 34
        }
      },
      "source": [
        "print(__)# double underscore to access the second to last output"
      ],
      "execution_count": 8,
      "outputs": [
        {
          "output_type": "stream",
          "text": [
            "0.9092974268256817\n"
          ],
          "name": "stdout"
        }
      ]
    },
    {
      "cell_type": "markdown",
      "metadata": {
        "id": "wX4D7q0Z69xk",
        "colab_type": "text"
      },
      "source": [
        "#### More than 3 underscores starts to get a bit liitle difficult to count , it becomes easier to refer the output by line number"
      ]
    },
    {
      "cell_type": "code",
      "metadata": {
        "id": "dgvtLOWe7mRK",
        "colab_type": "code",
        "outputId": "7066efc1-ed70-4b6a-90f3-a257eb5e4ddc",
        "colab": {
          "base_uri": "https://localhost:8080/",
          "height": 34
        }
      },
      "source": [
        "math.sin(2)\n"
      ],
      "execution_count": 9,
      "outputs": [
        {
          "output_type": "execute_result",
          "data": {
            "text/plain": [
              "0.9092974268256817"
            ]
          },
          "metadata": {
            "tags": []
          },
          "execution_count": 9
        }
      ]
    },
    {
      "cell_type": "code",
      "metadata": {
        "id": "auz9pNAf7vKs",
        "colab_type": "code",
        "outputId": "68c25b73-e47f-45a4-dfd3-e4fa0c4eb23a",
        "colab": {
          "base_uri": "https://localhost:8080/",
          "height": 34
        }
      },
      "source": [
        "math.tan(2)\n"
      ],
      "execution_count": 10,
      "outputs": [
        {
          "output_type": "execute_result",
          "data": {
            "text/plain": [
              "-2.185039863261519"
            ]
          },
          "metadata": {
            "tags": []
          },
          "execution_count": 10
        }
      ]
    },
    {
      "cell_type": "code",
      "metadata": {
        "id": "0LvaMofw7x-V",
        "colab_type": "code",
        "outputId": "9045943f-71d5-4667-ab5b-77bb5c0851fb",
        "colab": {
          "base_uri": "https://localhost:8080/",
          "height": 34
        }
      },
      "source": [
        "math.cos(2)\n"
      ],
      "execution_count": 11,
      "outputs": [
        {
          "output_type": "execute_result",
          "data": {
            "text/plain": [
              "-0.4161468365471424"
            ]
          },
          "metadata": {
            "tags": []
          },
          "execution_count": 11
        }
      ]
    },
    {
      "cell_type": "markdown",
      "metadata": {
        "id": "GxvCZL0uAS4X",
        "colab_type": "text"
      },
      "source": [
        "##Ipython automatically creates some Python variables called In and Out that are automatically updated to reflect the history"
      ]
    },
    {
      "cell_type": "code",
      "metadata": {
        "id": "BQ7u-a_k_2Bt",
        "colab_type": "code",
        "outputId": "2cb46e9e-3cac-49a1-8f09-e027530f1208",
        "colab": {
          "base_uri": "https://localhost:8080/",
          "height": 34
        }
      },
      "source": [
        "print(In[1])"
      ],
      "execution_count": 12,
      "outputs": [
        {
          "output_type": "stream",
          "text": [
            "a.shape\n"
          ],
          "name": "stdout"
        }
      ]
    },
    {
      "cell_type": "code",
      "metadata": {
        "id": "_SaVQzoNCtmm",
        "colab_type": "code",
        "outputId": "922684f2-8db9-49f9-e674-529e5eaa7e4d",
        "colab": {
          "base_uri": "https://localhost:8080/",
          "height": 54
        }
      },
      "source": [
        "print(Out)"
      ],
      "execution_count": 13,
      "outputs": [
        {
          "output_type": "stream",
          "text": [
            "{4: <IPython.core.magics.basic.MagicsDisplay object at 0x7f4b184a9b70>, 5: 0.9092974268256817, 6: -0.4161468365471424, 9: 0.9092974268256817, 10: -2.185039863261519, 11: -0.4161468365471424}\n"
          ],
          "name": "stdout"
        }
      ]
    },
    {
      "cell_type": "code",
      "metadata": {
        "id": "wNr-j-w0Cxzb",
        "colab_type": "code",
        "outputId": "24603555-527f-4256-8b35-94700cb92a4a",
        "colab": {
          "base_uri": "https://localhost:8080/",
          "height": 34
        }
      },
      "source": [
        "print(Out[9])"
      ],
      "execution_count": 15,
      "outputs": [
        {
          "output_type": "stream",
          "text": [
            "0.9092974268256817\n"
          ],
          "name": "stdout"
        }
      ]
    },
    {
      "cell_type": "code",
      "metadata": {
        "id": "KUm24MWTCx3D",
        "colab_type": "code",
        "colab": {}
      },
      "source": [
        "print(Out[5])"
      ],
      "execution_count": 0,
      "outputs": []
    },
    {
      "cell_type": "code",
      "metadata": {
        "id": "F4NQcWVoDiqQ",
        "colab_type": "code",
        "outputId": "fddfbf0d-8cb3-4c79-a0bc-518136632000",
        "colab": {
          "base_uri": "https://localhost:8080/",
          "height": 156
        }
      },
      "source": [
        "print(Out[4])"
      ],
      "execution_count": 16,
      "outputs": [
        {
          "output_type": "stream",
          "text": [
            "Available line magics:\n",
            "%alias  %alias_magic  %autocall  %automagic  %autosave  %bookmark  %cat  %cd  %clear  %colors  %config  %connect_info  %cp  %debug  %dhist  %dirs  %doctest_mode  %ed  %edit  %env  %gui  %hist  %history  %killbgscripts  %ldir  %less  %lf  %lk  %ll  %load  %load_ext  %loadpy  %logoff  %logon  %logstart  %logstate  %logstop  %ls  %lsmagic  %lx  %macro  %magic  %man  %matplotlib  %mkdir  %more  %mv  %notebook  %page  %pastebin  %pdb  %pdef  %pdoc  %pfile  %pinfo  %pinfo2  %pip  %popd  %pprint  %precision  %profile  %prun  %psearch  %psource  %pushd  %pwd  %pycat  %pylab  %qtconsole  %quickref  %recall  %rehashx  %reload_ext  %rep  %rerun  %reset  %reset_selective  %rm  %rmdir  %run  %save  %sc  %set_env  %shell  %store  %sx  %system  %tb  %tensorflow_version  %time  %timeit  %unalias  %unload_ext  %who  %who_ls  %whos  %xdel  %xmode\n",
            "\n",
            "Available cell magics:\n",
            "%%!  %%HTML  %%SVG  %%bash  %%bigquery  %%capture  %%debug  %%file  %%html  %%javascript  %%js  %%latex  %%perl  %%prun  %%pypy  %%python  %%python2  %%python3  %%ruby  %%script  %%sh  %%shell  %%svg  %%sx  %%system  %%time  %%timeit  %%writefile\n",
            "\n",
            "Automagic is ON, % prefix IS NOT needed for line magics.\n"
          ],
          "name": "stdout"
        }
      ]
    },
    {
      "cell_type": "markdown",
      "metadata": {
        "id": "yPanl2pIEh-8",
        "colab_type": "text"
      },
      "source": [
        "##Supressing Output"
      ]
    },
    {
      "cell_type": "code",
      "metadata": {
        "id": "VnsPszubEkVz",
        "colab_type": "code",
        "outputId": "a08a4e0e-35a6-43b5-e522-6ea6474fb5b3",
        "colab": {
          "base_uri": "https://localhost:8080/",
          "height": 34
        }
      },
      "source": [
        "math.sin(2) + math.cos(2)"
      ],
      "execution_count": 17,
      "outputs": [
        {
          "output_type": "execute_result",
          "data": {
            "text/plain": [
              "0.4931505902785393"
            ]
          },
          "metadata": {
            "tags": []
          },
          "execution_count": 17
        }
      ]
    },
    {
      "cell_type": "markdown",
      "metadata": {
        "id": "pGGqWboQIi3t",
        "colab_type": "text"
      },
      "source": [
        "## For accessing a batch of previous inputs at once, the %history magic command is very helpful"
      ]
    },
    {
      "cell_type": "code",
      "metadata": {
        "id": "sEUkvgksIus2",
        "colab_type": "code",
        "outputId": "ef20ae33-cb69-4373-e2ab-3e28717fdd4d",
        "colab": {
          "base_uri": "https://localhost:8080/",
          "height": 34
        }
      },
      "source": [
        "%history -n 1"
      ],
      "execution_count": 18,
      "outputs": [
        {
          "output_type": "stream",
          "text": [
            "   1: a.shape\n"
          ],
          "name": "stdout"
        }
      ]
    },
    {
      "cell_type": "code",
      "metadata": {
        "id": "aUTCrLOeIzX0",
        "colab_type": "code",
        "outputId": "648ae493-12e6-4ec0-8cc7-cc590c65b77f",
        "colab": {
          "base_uri": "https://localhost:8080/",
          "height": 34
        }
      },
      "source": [
        "%history -n 4"
      ],
      "execution_count": 19,
      "outputs": [
        {
          "output_type": "stream",
          "text": [
            "   4: %lsmagic\n"
          ],
          "name": "stdout"
        }
      ]
    },
    {
      "cell_type": "code",
      "metadata": {
        "id": "XZkLfaAlJGsv",
        "colab_type": "code",
        "outputId": "7c208449-0195-4808-8868-0195159b170d",
        "colab": {
          "base_uri": "https://localhost:8080/",
          "height": 187
        }
      },
      "source": [
        "%history -n 1-8"
      ],
      "execution_count": 20,
      "outputs": [
        {
          "output_type": "stream",
          "text": [
            "   1: a.shape\n",
            "   2: %timeit L = [n **2 for n in range(1000)]\n",
            "   3: %timeit?\n",
            "   4: %lsmagic\n",
            "   5:\n",
            "import math\n",
            "math.sin(2)\n",
            "   6: math.cos(2)\n",
            "   7: print(_)# single underscore to access previous output\n",
            "   8: print(__)# double underscore to access the second to last output\n"
          ],
          "name": "stdout"
        }
      ]
    },
    {
      "cell_type": "markdown",
      "metadata": {
        "id": "f1srH2IWKlFP",
        "colab_type": "text"
      },
      "source": [
        "##Shell Commands"
      ]
    },
    {
      "cell_type": "code",
      "metadata": {
        "id": "QmRoe9PMKW9Q",
        "colab_type": "code",
        "colab": {}
      },
      "source": [
        "!echo \"Hello World!\""
      ],
      "execution_count": 0,
      "outputs": []
    },
    {
      "cell_type": "code",
      "metadata": {
        "id": "8buXFnMAKb4x",
        "colab_type": "code",
        "colab": {}
      },
      "source": [
        "!ls "
      ],
      "execution_count": 0,
      "outputs": []
    },
    {
      "cell_type": "code",
      "metadata": {
        "id": "qxLCmXtaKhsX",
        "colab_type": "code",
        "colab": {}
      },
      "source": [
        "!pwd"
      ],
      "execution_count": 0,
      "outputs": []
    },
    {
      "cell_type": "markdown",
      "metadata": {
        "id": "jDtJd5lwK4az",
        "colab_type": "text"
      },
      "source": [
        "##Multiline timing scripts"
      ]
    },
    {
      "cell_type": "code",
      "metadata": {
        "id": "bVeL05KXK-Lq",
        "colab_type": "code",
        "colab": {}
      },
      "source": [
        "%%timeit\n",
        "total = 0\n",
        "for i in range(1000):\n",
        "  for j in range(100):\n",
        "    toatal = total + i * (-1) **j"
      ],
      "execution_count": 0,
      "outputs": []
    },
    {
      "cell_type": "markdown",
      "metadata": {
        "id": "FZ5XxsIsLbFl",
        "colab_type": "text"
      },
      "source": [
        "##Numpy"
      ]
    },
    {
      "cell_type": "code",
      "metadata": {
        "id": "grfHSPnyK3pQ",
        "colab_type": "code",
        "outputId": "7944cbb4-0491-4c9e-ab19-5446c078230e",
        "colab": {
          "base_uri": "https://localhost:8080/",
          "height": 34
        }
      },
      "source": [
        "import numpy as np\n",
        "np.__version__"
      ],
      "execution_count": 21,
      "outputs": [
        {
          "output_type": "execute_result",
          "data": {
            "text/plain": [
              "'1.17.5'"
            ]
          },
          "metadata": {
            "tags": []
          },
          "execution_count": 21
        }
      ]
    },
    {
      "cell_type": "markdown",
      "metadata": {
        "id": "fQGrU2PvP-PW",
        "colab_type": "text"
      },
      "source": [
        "##Fixed type arrays in Python\n",
        "builtin array module in Python 3 can be used to create a dense arrays of uniform type"
      ]
    },
    {
      "cell_type": "code",
      "metadata": {
        "id": "RVs23hVsRDcG",
        "colab_type": "code",
        "colab": {}
      },
      "source": [
        "import array\n",
        "L = list(range(10))\n",
        "A = array.array('i',L)#i is a type coding indicating the contents are integers"
      ],
      "execution_count": 0,
      "outputs": []
    },
    {
      "cell_type": "code",
      "metadata": {
        "id": "8QXK3OOsiVNS",
        "colab_type": "code",
        "colab": {}
      },
      "source": [
        "A"
      ],
      "execution_count": 0,
      "outputs": []
    },
    {
      "cell_type": "markdown",
      "metadata": {
        "id": "X4_LJlHpia7B",
        "colab_type": "text"
      },
      "source": [
        "##Creating array from python lists"
      ]
    },
    {
      "cell_type": "code",
      "metadata": {
        "id": "vhtzrePFiXUV",
        "colab_type": "code",
        "colab": {}
      },
      "source": [
        "import numpy as np\n",
        "np.array(L)"
      ],
      "execution_count": 0,
      "outputs": []
    },
    {
      "cell_type": "markdown",
      "metadata": {
        "id": "3hIBqs7_jwEO",
        "colab_type": "text"
      },
      "source": [
        "##Explicitly setting the data type of resulting array"
      ]
    },
    {
      "cell_type": "code",
      "metadata": {
        "id": "pYBQuxpMj1zo",
        "colab_type": "code",
        "colab": {}
      },
      "source": [
        "np.array([1,2,3,4],dtype='float32')"
      ],
      "execution_count": 0,
      "outputs": []
    },
    {
      "cell_type": "markdown",
      "metadata": {
        "id": "8nZqh5C5khXG",
        "colab_type": "text"
      },
      "source": [
        "## nested lists result in multidimensional array"
      ]
    },
    {
      "cell_type": "code",
      "metadata": {
        "id": "zUIhtLtDkHHU",
        "colab_type": "code",
        "colab": {}
      },
      "source": [
        "np.array([range(i,i+3) for i in [2,4,6]])"
      ],
      "execution_count": 0,
      "outputs": []
    },
    {
      "cell_type": "markdown",
      "metadata": {
        "id": "E6aCR61blYDO",
        "colab_type": "text"
      },
      "source": [
        "##Creating arrays from scratch"
      ]
    },
    {
      "cell_type": "code",
      "metadata": {
        "id": "jh0cQdkMkXBK",
        "colab_type": "code",
        "colab": {}
      },
      "source": [
        "np.zeros(10,dtype=int)"
      ],
      "execution_count": 0,
      "outputs": []
    },
    {
      "cell_type": "code",
      "metadata": {
        "id": "cKiM7JmIljJl",
        "colab_type": "code",
        "colab": {}
      },
      "source": [
        "np.ones((3,5),dtype=float)"
      ],
      "execution_count": 0,
      "outputs": []
    },
    {
      "cell_type": "markdown",
      "metadata": {
        "id": "u4t1ot9NmQME",
        "colab_type": "text"
      },
      "source": [
        "##Create a 3 x 5 array filled with 3.14"
      ]
    },
    {
      "cell_type": "code",
      "metadata": {
        "id": "-8LsHOT3mWFV",
        "colab_type": "code",
        "colab": {}
      },
      "source": [
        "np.full((3,5),3.14)"
      ],
      "execution_count": 0,
      "outputs": []
    },
    {
      "cell_type": "markdown",
      "metadata": {
        "id": "TEnXIoJlnMF4",
        "colab_type": "text"
      },
      "source": [
        "##Create an array filled with linear sequence starting at 0, ending at 20 step by 2"
      ]
    },
    {
      "cell_type": "code",
      "metadata": {
        "id": "wohr4WgWnUQT",
        "colab_type": "code",
        "colab": {}
      },
      "source": [
        "np.arange(0,20,2)"
      ],
      "execution_count": 0,
      "outputs": []
    },
    {
      "cell_type": "markdown",
      "metadata": {
        "id": "KrOs7YNFnaR5",
        "colab_type": "text"
      },
      "source": [
        "##Create an array of five values evenly spaced between 0 and 1 -np.linspace"
      ]
    },
    {
      "cell_type": "code",
      "metadata": {
        "id": "5Pb8Axg-nmPq",
        "colab_type": "code",
        "colab": {}
      },
      "source": [
        "np.linspace(0,1,5)"
      ],
      "execution_count": 0,
      "outputs": []
    },
    {
      "cell_type": "markdown",
      "metadata": {
        "id": "5atITkkEnrhE",
        "colab_type": "text"
      },
      "source": [
        "##Create a 3x3 array of uniformly distributed random values between 0 and 1"
      ]
    },
    {
      "cell_type": "code",
      "metadata": {
        "id": "7Eoody8Wn7Ym",
        "colab_type": "code",
        "colab": {}
      },
      "source": [
        "np.random.random((3,3))"
      ],
      "execution_count": 0,
      "outputs": []
    },
    {
      "cell_type": "markdown",
      "metadata": {
        "id": "lufGmEy_oJVZ",
        "colab_type": "text"
      },
      "source": [
        "##Create a 3x3  array of normally distributed random values  with mean = 0 and standard deviation = 1"
      ]
    },
    {
      "cell_type": "code",
      "metadata": {
        "id": "Q89Q10hcoufy",
        "colab_type": "code",
        "colab": {}
      },
      "source": [
        "np.random.normal(0,1,(3,3))"
      ],
      "execution_count": 0,
      "outputs": []
    },
    {
      "cell_type": "markdown",
      "metadata": {
        "id": "lEXKn-CGpepu",
        "colab_type": "text"
      },
      "source": [
        "##Create a 3x3 array of random integers in the interval [0,10]"
      ]
    },
    {
      "cell_type": "code",
      "metadata": {
        "id": "9taCcpMNqEbk",
        "colab_type": "code",
        "colab": {}
      },
      "source": [
        "np.random.randint(0,10,(3,3))"
      ],
      "execution_count": 0,
      "outputs": []
    },
    {
      "cell_type": "markdown",
      "metadata": {
        "id": "3uHkrWCwqdDC",
        "colab_type": "text"
      },
      "source": [
        "##Create a 3 x 3 identity matrix"
      ]
    },
    {
      "cell_type": "code",
      "metadata": {
        "id": "grS_DQ4Gqg7_",
        "colab_type": "code",
        "colab": {}
      },
      "source": [
        "np.eye(3,3)"
      ],
      "execution_count": 0,
      "outputs": []
    },
    {
      "cell_type": "markdown",
      "metadata": {
        "id": "-i6Yb1o4q6gG",
        "colab_type": "text"
      },
      "source": [
        "##Create an uninitialized array of 3 integers - values will be whatever happens to already exist at that memory location"
      ]
    },
    {
      "cell_type": "code",
      "metadata": {
        "id": "4na6U-4grALl",
        "colab_type": "code",
        "colab": {}
      },
      "source": [
        "np.empty((3,2))"
      ],
      "execution_count": 0,
      "outputs": []
    },
    {
      "cell_type": "markdown",
      "metadata": {
        "id": "kwzY5hcQrw1f",
        "colab_type": "text"
      },
      "source": [
        "##Numpy Attributes\n",
        "\n",
        "Numpy's random number generator which we will seed with a set of value in order to ensure that the same random arrays are generated each time this code runs"
      ]
    },
    {
      "cell_type": "code",
      "metadata": {
        "id": "A5XFqao0sMjp",
        "colab_type": "code",
        "colab": {}
      },
      "source": [
        "np.random.seed(0)\n",
        "x1 = np.random.randint(10,size=6)#one-dimensional array\n",
        "x2 = np.random.randint(10,size=(3,4))#Two-dimensional array\n",
        "x3 = np.random.randint(10,size =(3,4,5))#Three-dimensional array"
      ],
      "execution_count": 0,
      "outputs": []
    },
    {
      "cell_type": "code",
      "metadata": {
        "id": "WdWfWQAuM-Oi",
        "colab_type": "code",
        "colab": {}
      },
      "source": [
        "print(\"x3 ndim :\",x3.ndim)\n",
        "print(\"x3 shape :\",x3.shape)\n",
        "print(\"x3 size :\",x3.size)"
      ],
      "execution_count": 0,
      "outputs": []
    },
    {
      "cell_type": "code",
      "metadata": {
        "id": "mcCryBdfNj5_",
        "colab_type": "code",
        "colab": {}
      },
      "source": [
        "print(\"dtype :\",x3.dtype)"
      ],
      "execution_count": 0,
      "outputs": []
    },
    {
      "cell_type": "code",
      "metadata": {
        "id": "TSxzO3P_No7i",
        "colab_type": "code",
        "colab": {}
      },
      "source": [
        "print(\"itemsize :\",x3.itemsize,\"bytes\")\n",
        "print(\"nbytes :\",x3.nbytes,\"bytes\")"
      ],
      "execution_count": 0,
      "outputs": []
    },
    {
      "cell_type": "markdown",
      "metadata": {
        "id": "M_TOG59dQ0Q2",
        "colab_type": "text"
      },
      "source": [
        "nbytes = itemsize of the array * size of the array"
      ]
    },
    {
      "cell_type": "markdown",
      "metadata": {
        "id": "pW3k7cqsRcP6",
        "colab_type": "text"
      },
      "source": [
        "##Array Indexing : Accessing Single Elements"
      ]
    },
    {
      "cell_type": "code",
      "metadata": {
        "id": "7ImsQ0qhQyP1",
        "colab_type": "code",
        "colab": {}
      },
      "source": [
        "x1"
      ],
      "execution_count": 0,
      "outputs": []
    },
    {
      "cell_type": "code",
      "metadata": {
        "id": "pSypX3-fSZ4k",
        "colab_type": "code",
        "colab": {}
      },
      "source": [
        "x1[0]"
      ],
      "execution_count": 0,
      "outputs": []
    },
    {
      "cell_type": "code",
      "metadata": {
        "id": "f1qx1M2BSdG7",
        "colab_type": "code",
        "colab": {}
      },
      "source": [
        "x1[::2]"
      ],
      "execution_count": 0,
      "outputs": []
    },
    {
      "cell_type": "code",
      "metadata": {
        "id": "m-gdOg-ySTjL",
        "colab_type": "code",
        "colab": {}
      },
      "source": [
        "x2"
      ],
      "execution_count": 0,
      "outputs": []
    },
    {
      "cell_type": "code",
      "metadata": {
        "id": "M5BITP0pTbwI",
        "colab_type": "code",
        "colab": {}
      },
      "source": [
        "x2[0,0]"
      ],
      "execution_count": 0,
      "outputs": []
    },
    {
      "cell_type": "code",
      "metadata": {
        "id": "yhhQE1EwTe8o",
        "colab_type": "code",
        "colab": {}
      },
      "source": [
        "x2[2,0]"
      ],
      "execution_count": 0,
      "outputs": []
    },
    {
      "cell_type": "code",
      "metadata": {
        "id": "rN_6ROCEU6no",
        "colab_type": "code",
        "colab": {}
      },
      "source": [
        "x2[2,-1]"
      ],
      "execution_count": 0,
      "outputs": []
    },
    {
      "cell_type": "code",
      "metadata": {
        "id": "qPvzZN-DVZ40",
        "colab_type": "code",
        "colab": {}
      },
      "source": [
        "x2[::2,::2]"
      ],
      "execution_count": 0,
      "outputs": []
    },
    {
      "cell_type": "code",
      "metadata": {
        "id": "PtCdg_HJVq6S",
        "colab_type": "code",
        "colab": {}
      },
      "source": [
        "x2[::2,::3]"
      ],
      "execution_count": 0,
      "outputs": []
    },
    {
      "cell_type": "markdown",
      "metadata": {
        "id": "ZK_32sXZV_k8",
        "colab_type": "text"
      },
      "source": [
        "##Array Slicing : Accessing Subarrays X[start:stop:step]"
      ]
    },
    {
      "cell_type": "code",
      "metadata": {
        "id": "VfYFce_EV-Z-",
        "colab_type": "code",
        "colab": {}
      },
      "source": [
        "x =np.arange(10)\n",
        "x"
      ],
      "execution_count": 0,
      "outputs": []
    },
    {
      "cell_type": "code",
      "metadata": {
        "id": "LOZEmraqWxrn",
        "colab_type": "code",
        "colab": {}
      },
      "source": [
        "x[:5]"
      ],
      "execution_count": 0,
      "outputs": []
    },
    {
      "cell_type": "code",
      "metadata": {
        "id": "6Sm-vaVhW0u2",
        "colab_type": "code",
        "colab": {}
      },
      "source": [
        "x[5:]"
      ],
      "execution_count": 0,
      "outputs": []
    },
    {
      "cell_type": "code",
      "metadata": {
        "id": "F6mYh4vLXU-B",
        "colab_type": "code",
        "colab": {}
      },
      "source": [
        "x[::2]"
      ],
      "execution_count": 0,
      "outputs": []
    },
    {
      "cell_type": "code",
      "metadata": {
        "id": "Adgt-CTBXZtb",
        "colab_type": "code",
        "colab": {}
      },
      "source": [
        "x[1::2]"
      ],
      "execution_count": 0,
      "outputs": []
    },
    {
      "cell_type": "markdown",
      "metadata": {
        "id": "iJz0haXSXr2T",
        "colab_type": "text"
      },
      "source": [
        "##Multidimensional Array"
      ]
    },
    {
      "cell_type": "code",
      "metadata": {
        "id": "ijenPmHbXy6D",
        "colab_type": "code",
        "colab": {}
      },
      "source": [
        "x3"
      ],
      "execution_count": 0,
      "outputs": []
    },
    {
      "cell_type": "code",
      "metadata": {
        "id": "91yzTleoX3nv",
        "colab_type": "code",
        "colab": {}
      },
      "source": [
        "x3[0][:2,:3]"
      ],
      "execution_count": 0,
      "outputs": []
    },
    {
      "cell_type": "code",
      "metadata": {
        "id": "o54bbnsTYDzT",
        "colab_type": "code",
        "colab": {}
      },
      "source": [
        "x2"
      ],
      "execution_count": 0,
      "outputs": []
    },
    {
      "cell_type": "code",
      "metadata": {
        "id": "msAN_wzkYF5i",
        "colab_type": "code",
        "colab": {}
      },
      "source": [
        "x2[:2,:3]"
      ],
      "execution_count": 0,
      "outputs": []
    },
    {
      "cell_type": "code",
      "metadata": {
        "id": "BssSJADKYRoH",
        "colab_type": "code",
        "colab": {}
      },
      "source": [
        "x2[::-1,::-1]"
      ],
      "execution_count": 0,
      "outputs": []
    },
    {
      "cell_type": "markdown",
      "metadata": {
        "id": "nOAgdJnnZtZy",
        "colab_type": "text"
      },
      "source": [
        "##Accessing Rows and Columns"
      ]
    },
    {
      "cell_type": "code",
      "metadata": {
        "id": "aF8VbOvuZsEE",
        "colab_type": "code",
        "colab": {}
      },
      "source": [
        "print(x2[:,0])#first column of x2"
      ],
      "execution_count": 0,
      "outputs": []
    },
    {
      "cell_type": "code",
      "metadata": {
        "id": "muuC6xKfZ8n0",
        "colab_type": "code",
        "colab": {}
      },
      "source": [
        "print(x2[0,:]) #first row of x2"
      ],
      "execution_count": 0,
      "outputs": []
    },
    {
      "cell_type": "code",
      "metadata": {
        "id": "abFjQPJSabao",
        "colab_type": "code",
        "colab": {}
      },
      "source": [
        "print(x2[0])#equivalent to x2[0,:]"
      ],
      "execution_count": 0,
      "outputs": []
    },
    {
      "cell_type": "markdown",
      "metadata": {
        "id": "sYNJMh1VbTqu",
        "colab_type": "text"
      },
      "source": [
        "##Subarrays as no copy views"
      ]
    },
    {
      "cell_type": "code",
      "metadata": {
        "id": "PKI_ZfH_ah1x",
        "colab_type": "code",
        "colab": {}
      },
      "source": [
        "x2"
      ],
      "execution_count": 0,
      "outputs": []
    },
    {
      "cell_type": "markdown",
      "metadata": {
        "id": "N-sG4MAcbh6f",
        "colab_type": "text"
      },
      "source": [
        "##Array slices return views rather than copies of the array data.\n",
        "\n",
        "## Python list slicing return copies "
      ]
    },
    {
      "cell_type": "code",
      "metadata": {
        "id": "zeo9lRnNbupe",
        "colab_type": "code",
        "colab": {}
      },
      "source": [
        "x2_sub = x2[:2,:2]\n",
        "print(x2_sub)"
      ],
      "execution_count": 0,
      "outputs": []
    },
    {
      "cell_type": "code",
      "metadata": {
        "id": "SjRWro8bbW4K",
        "colab_type": "code",
        "colab": {}
      },
      "source": [
        "x2_sub[0] =12"
      ],
      "execution_count": 0,
      "outputs": []
    },
    {
      "cell_type": "code",
      "metadata": {
        "id": "aCbwmEZibgZe",
        "colab_type": "code",
        "colab": {}
      },
      "source": [
        "x2_sub"
      ],
      "execution_count": 0,
      "outputs": []
    },
    {
      "cell_type": "code",
      "metadata": {
        "id": "5BubTMfgc6iQ",
        "colab_type": "code",
        "colab": {}
      },
      "source": [
        "x2"
      ],
      "execution_count": 0,
      "outputs": []
    },
    {
      "cell_type": "markdown",
      "metadata": {
        "id": "PQC22U4qdDt2",
        "colab_type": "text"
      },
      "source": [
        "##Creating copies of arrays"
      ]
    },
    {
      "cell_type": "code",
      "metadata": {
        "id": "ppW4kdzqe3EJ",
        "colab_type": "code",
        "colab": {}
      },
      "source": [
        "x2_sub_copy = x2[:2,:3].copy()"
      ],
      "execution_count": 0,
      "outputs": []
    },
    {
      "cell_type": "code",
      "metadata": {
        "id": "pBh_3JD3e-zt",
        "colab_type": "code",
        "colab": {}
      },
      "source": [
        "x2_sub_copy"
      ],
      "execution_count": 0,
      "outputs": []
    },
    {
      "cell_type": "code",
      "metadata": {
        "id": "TURsts4BfCSs",
        "colab_type": "code",
        "colab": {}
      },
      "source": [
        "x2_sub_copy[0,0] = 99"
      ],
      "execution_count": 0,
      "outputs": []
    },
    {
      "cell_type": "code",
      "metadata": {
        "id": "Fr1l0spnfKo4",
        "colab_type": "code",
        "colab": {}
      },
      "source": [
        "x2_sub_copy"
      ],
      "execution_count": 0,
      "outputs": []
    },
    {
      "cell_type": "code",
      "metadata": {
        "id": "L0VyMLXbfO6V",
        "colab_type": "code",
        "colab": {}
      },
      "source": [
        "x2"
      ],
      "execution_count": 0,
      "outputs": []
    },
    {
      "cell_type": "markdown",
      "metadata": {
        "id": "kN1x-IvAfnZD",
        "colab_type": "text"
      },
      "source": [
        "##Reshaping Arrays"
      ]
    },
    {
      "cell_type": "code",
      "metadata": {
        "id": "9mcxnLx6fq3V",
        "colab_type": "code",
        "colab": {}
      },
      "source": [
        "grid = np.arange(1,10).reshape(3,3)\n",
        "grid"
      ],
      "execution_count": 0,
      "outputs": []
    },
    {
      "cell_type": "code",
      "metadata": {
        "id": "KmxivcYNfSXq",
        "colab_type": "code",
        "colab": {}
      },
      "source": [
        "x = np.array([1,2,3])\n",
        "x"
      ],
      "execution_count": 0,
      "outputs": []
    },
    {
      "cell_type": "code",
      "metadata": {
        "id": "kiulKHKEjL_0",
        "colab_type": "code",
        "colab": {}
      },
      "source": [
        "x.reshape(1,3)"
      ],
      "execution_count": 0,
      "outputs": []
    },
    {
      "cell_type": "markdown",
      "metadata": {
        "id": "nIs4CanrjTTN",
        "colab_type": "text"
      },
      "source": [
        "##row vector via newaxis"
      ]
    },
    {
      "cell_type": "code",
      "metadata": {
        "id": "vkEAssTejXK1",
        "colab_type": "code",
        "colab": {}
      },
      "source": [
        "x[np.newaxis,:]"
      ],
      "execution_count": 0,
      "outputs": []
    },
    {
      "cell_type": "markdown",
      "metadata": {
        "id": "jK5LoeKIjg7t",
        "colab_type": "text"
      },
      "source": [
        "#### Common reshaping techniques for arrays - reshape / newaxis"
      ]
    },
    {
      "cell_type": "markdown",
      "metadata": {
        "id": "qIDSftDqlMbA",
        "colab_type": "text"
      },
      "source": [
        "##Column Vector"
      ]
    },
    {
      "cell_type": "code",
      "metadata": {
        "id": "xFD9Fa3DlPyH",
        "colab_type": "code",
        "colab": {}
      },
      "source": [
        "x.reshape(3,1)"
      ],
      "execution_count": 0,
      "outputs": []
    },
    {
      "cell_type": "code",
      "metadata": {
        "id": "7G_gyuj0lSff",
        "colab_type": "code",
        "colab": {}
      },
      "source": [
        "x[:,np.newaxis]"
      ],
      "execution_count": 0,
      "outputs": []
    },
    {
      "cell_type": "markdown",
      "metadata": {
        "id": "rI3EjIRdlaLL",
        "colab_type": "text"
      },
      "source": [
        "##Array Concatenation"
      ]
    },
    {
      "cell_type": "code",
      "metadata": {
        "id": "8Ilhc6pBnHrN",
        "colab_type": "code",
        "colab": {}
      },
      "source": [
        "x = np.array([1,2,3])\n",
        "y = np.array([3,2,1])\n",
        "np.concatenate([x,y])"
      ],
      "execution_count": 0,
      "outputs": []
    },
    {
      "cell_type": "code",
      "metadata": {
        "id": "Zhgtnw2NnZBP",
        "colab_type": "code",
        "colab": {}
      },
      "source": [
        "z = [100,100,100,100]\n",
        "np.concatenate([x,y,z])"
      ],
      "execution_count": 0,
      "outputs": []
    },
    {
      "cell_type": "markdown",
      "metadata": {
        "id": "yF7gbFfdwDcR",
        "colab_type": "text"
      },
      "source": [
        "####concatenation along the first axis"
      ]
    },
    {
      "cell_type": "code",
      "metadata": {
        "id": "a-OgyyMuwKx1",
        "colab_type": "code",
        "colab": {}
      },
      "source": [
        "grid = np.array([[1,2,3],[4,5,6]])\n",
        "np.concatenate([grid,grid])#row"
      ],
      "execution_count": 0,
      "outputs": []
    },
    {
      "cell_type": "code",
      "metadata": {
        "id": "NXnTsCdSxHR6",
        "colab_type": "code",
        "colab": {}
      },
      "source": [
        "grid"
      ],
      "execution_count": 0,
      "outputs": []
    },
    {
      "cell_type": "markdown",
      "metadata": {
        "id": "2qOsSJJewu60",
        "colab_type": "text"
      },
      "source": [
        "##concatenation along second axis"
      ]
    },
    {
      "cell_type": "code",
      "metadata": {
        "id": "jgQL-hmjw0Rf",
        "colab_type": "code",
        "colab": {}
      },
      "source": [
        "np.concatenate([grid,grid],axis=1)#column"
      ],
      "execution_count": 0,
      "outputs": []
    },
    {
      "cell_type": "markdown",
      "metadata": {
        "id": "xxPZwguCxPjf",
        "colab_type": "text"
      },
      "source": [
        "##for working with arrays of mixed dimensions, it can be clearer to use np,vstack(vertical stack),np.hstack(horizontal stack)"
      ]
    },
    {
      "cell_type": "code",
      "metadata": {
        "id": "h8INETGLxcy5",
        "colab_type": "code",
        "colab": {}
      },
      "source": [
        "import numpy as np\n",
        "x = np.array([1,2,3])\n",
        "grid = np.array([[9,8,7],[6,5,4]])"
      ],
      "execution_count": 0,
      "outputs": []
    },
    {
      "cell_type": "code",
      "metadata": {
        "id": "xjU7G2AZlbyd",
        "colab_type": "code",
        "colab": {}
      },
      "source": [
        "x"
      ],
      "execution_count": 0,
      "outputs": []
    },
    {
      "cell_type": "code",
      "metadata": {
        "id": "ppDPXuV5lrb5",
        "colab_type": "code",
        "colab": {}
      },
      "source": [
        "grid"
      ],
      "execution_count": 0,
      "outputs": []
    },
    {
      "cell_type": "code",
      "metadata": {
        "id": "BUruTPlhltPR",
        "colab_type": "code",
        "colab": {}
      },
      "source": [
        "np.vstack([x,grid])"
      ],
      "execution_count": 0,
      "outputs": []
    },
    {
      "cell_type": "code",
      "metadata": {
        "id": "aKxFmPsElx6J",
        "colab_type": "code",
        "colab": {}
      },
      "source": [
        "y =np.array([[99],[99]])\n",
        "y"
      ],
      "execution_count": 0,
      "outputs": []
    },
    {
      "cell_type": "markdown",
      "metadata": {
        "id": "NhCu6g1smSc_",
        "colab_type": "text"
      },
      "source": [
        "#### for using hstack, the number of dimensions should be same around the columns\n",
        "#### for using vstack, the number of dimensions should be same around the row"
      ]
    },
    {
      "cell_type": "code",
      "metadata": {
        "id": "r_Ab76Y5mY1s",
        "colab_type": "code",
        "colab": {}
      },
      "source": [
        "np.hstack([y,grid])"
      ],
      "execution_count": 0,
      "outputs": []
    },
    {
      "cell_type": "markdown",
      "metadata": {
        "id": "MLkmv6J0oxGw",
        "colab_type": "text"
      },
      "source": [
        "##Splitting of arrays"
      ]
    },
    {
      "cell_type": "code",
      "metadata": {
        "id": "9OVXD_JYo5eO",
        "colab_type": "code",
        "colab": {}
      },
      "source": [
        "x  = [1,2,3,99,99,3,1]\n",
        "x1,x2,x3 = np.split(x,[3,4])"
      ],
      "execution_count": 0,
      "outputs": []
    },
    {
      "cell_type": "code",
      "metadata": {
        "id": "XpxF5JWHnmbb",
        "colab_type": "code",
        "colab": {}
      },
      "source": [
        "print(x1,x2,x3)"
      ],
      "execution_count": 0,
      "outputs": []
    },
    {
      "cell_type": "code",
      "metadata": {
        "id": "cWQgieBRpkmt",
        "colab_type": "code",
        "colab": {}
      },
      "source": [
        "x4,x5,x6 = np.split(x,[2,5])"
      ],
      "execution_count": 0,
      "outputs": []
    },
    {
      "cell_type": "code",
      "metadata": {
        "id": "WovRAThNps7P",
        "colab_type": "code",
        "colab": {}
      },
      "source": [
        "print(x4,x5,x6)"
      ],
      "execution_count": 0,
      "outputs": []
    },
    {
      "cell_type": "code",
      "metadata": {
        "id": "gV01PKUfqAHH",
        "colab_type": "code",
        "colab": {}
      },
      "source": [
        "grid = np.arange(16).reshape((4,4))\n",
        "grid"
      ],
      "execution_count": 0,
      "outputs": []
    },
    {
      "cell_type": "code",
      "metadata": {
        "id": "PElRzcWqqRY7",
        "colab_type": "code",
        "colab": {}
      },
      "source": [
        "upper,lower = np.vsplit(grid,[2])##across rows\n"
      ],
      "execution_count": 0,
      "outputs": []
    },
    {
      "cell_type": "code",
      "metadata": {
        "id": "fb7PNwpXqZqh",
        "colab_type": "code",
        "colab": {}
      },
      "source": [
        "print(upper,lower)"
      ],
      "execution_count": 0,
      "outputs": []
    },
    {
      "cell_type": "code",
      "metadata": {
        "id": "IO3V8nqaqker",
        "colab_type": "code",
        "colab": {}
      },
      "source": [
        "left,right = np.hsplit(grid,[2])##across columns\n",
        "print(left,right)"
      ],
      "execution_count": 0,
      "outputs": []
    },
    {
      "cell_type": "markdown",
      "metadata": {
        "id": "F38ADCOXsjAb",
        "colab_type": "text"
      },
      "source": [
        "##Numpy : universal functions \n",
        "\n",
        "Computation on numpy arrays can be fast bor slow .The key to make it fast is to use vectorized operations generally implemented through Numpy's universal function(ufuncs)"
      ]
    },
    {
      "cell_type": "code",
      "metadata": {
        "id": "9BLlx3R5u5wP",
        "colab_type": "code",
        "colab": {}
      },
      "source": [
        "np.random.seed(0)\n",
        "def compute_reciprocal(values):\n",
        "  output = np.empty(len(values))\n",
        "  for i in range(len(values)):\n",
        "    output[i] = 1.0 / values[i]\n",
        "  return output"
      ],
      "execution_count": 0,
      "outputs": []
    },
    {
      "cell_type": "code",
      "metadata": {
        "id": "15r73MdrvpqJ",
        "colab_type": "code",
        "colab": {}
      },
      "source": [
        "compute_reciprocal(np.random.randint(1,10,5))"
      ],
      "execution_count": 0,
      "outputs": []
    },
    {
      "cell_type": "code",
      "metadata": {
        "id": "vAfb7k7svVmf",
        "colab_type": "code",
        "colab": {}
      },
      "source": [
        "%timeit compute_reciprocal(np.random.randint(1,10,5))"
      ],
      "execution_count": 0,
      "outputs": []
    },
    {
      "cell_type": "markdown",
      "metadata": {
        "id": "cTsXxVY9v8PW",
        "colab_type": "text"
      },
      "source": [
        "####aim of universal functions is to quickly execute repeated operations on values in NUMPY arrays"
      ]
    },
    {
      "cell_type": "code",
      "metadata": {
        "id": "h5QGKxJxxHq6",
        "colab_type": "code",
        "colab": {}
      },
      "source": [
        "np.arange(5)"
      ],
      "execution_count": 0,
      "outputs": []
    },
    {
      "cell_type": "code",
      "metadata": {
        "id": "O8jSXagxyEgi",
        "colab_type": "code",
        "colab": {}
      },
      "source": [
        "np.arange(1,6)"
      ],
      "execution_count": 0,
      "outputs": []
    },
    {
      "cell_type": "code",
      "metadata": {
        "id": "D-_nMrsWx9eS",
        "colab_type": "code",
        "colab": {}
      },
      "source": [
        "np.arange(5) /np.arange(1,6)"
      ],
      "execution_count": 0,
      "outputs": []
    },
    {
      "cell_type": "code",
      "metadata": {
        "id": "FVB6wHsyzJ5W",
        "colab_type": "code",
        "colab": {}
      },
      "source": [
        "x = np.arange(9).reshape((3,3))\n",
        "2**x"
      ],
      "execution_count": 0,
      "outputs": []
    },
    {
      "cell_type": "code",
      "metadata": {
        "id": "VQp-Buj2zqF5",
        "colab_type": "code",
        "colab": {}
      },
      "source": [
        "x = np.arange(4)\n",
        "print(x+x)\n",
        "print(x/x)\n",
        "print(x*x)\n",
        "print(x+5)\n",
        "print(x *2)"
      ],
      "execution_count": 0,
      "outputs": []
    },
    {
      "cell_type": "code",
      "metadata": {
        "id": "rhtKjHPJ0GPJ",
        "colab_type": "code",
        "colab": {}
      },
      "source": [
        "np.abs(np.array([-1,-2,3,-4]))"
      ],
      "execution_count": 0,
      "outputs": []
    },
    {
      "cell_type": "code",
      "metadata": {
        "id": "XNkQU5Lp0Kv2",
        "colab_type": "code",
        "colab": {}
      },
      "source": [
        "theta = np.linspace(0,np.pi,3)\n",
        "theta"
      ],
      "execution_count": 0,
      "outputs": []
    },
    {
      "cell_type": "code",
      "metadata": {
        "id": "GxZHlZDo0noa",
        "colab_type": "code",
        "colab": {}
      },
      "source": [
        "np.sin(theta)"
      ],
      "execution_count": 0,
      "outputs": []
    },
    {
      "cell_type": "code",
      "metadata": {
        "id": "3Fz7yzjm0sFP",
        "colab_type": "code",
        "colab": {}
      },
      "source": [
        "np.exp(theta)"
      ],
      "execution_count": 0,
      "outputs": []
    },
    {
      "cell_type": "code",
      "metadata": {
        "id": "Ym99vY_x05iN",
        "colab_type": "code",
        "colab": {}
      },
      "source": [
        "x"
      ],
      "execution_count": 0,
      "outputs": []
    },
    {
      "cell_type": "code",
      "metadata": {
        "id": "hIuj8znz09jl",
        "colab_type": "code",
        "colab": {}
      },
      "source": [
        "np.log10(x)"
      ],
      "execution_count": 0,
      "outputs": []
    },
    {
      "cell_type": "code",
      "metadata": {
        "id": "lBE-Q0Ys005Y",
        "colab_type": "code",
        "colab": {}
      },
      "source": [
        "np.exp2(x)"
      ],
      "execution_count": 0,
      "outputs": []
    },
    {
      "cell_type": "markdown",
      "metadata": {
        "id": "b2tLzZQB1ERW",
        "colab_type": "text"
      },
      "source": [
        "##Specialized Universal Functions"
      ]
    },
    {
      "cell_type": "code",
      "metadata": {
        "id": "SqghaKV31LQB",
        "colab_type": "code",
        "colab": {}
      },
      "source": [
        "from scipy import special\n",
        "x = [1,5,10]\n",
        "special.gamma(x)"
      ],
      "execution_count": 0,
      "outputs": []
    },
    {
      "cell_type": "code",
      "metadata": {
        "id": "kvitNMyd3THd",
        "colab_type": "code",
        "colab": {}
      },
      "source": [
        "special.gammaln(x)"
      ],
      "execution_count": 0,
      "outputs": []
    },
    {
      "cell_type": "code",
      "metadata": {
        "id": "I4bFxAZM3Zqg",
        "colab_type": "code",
        "colab": {}
      },
      "source": [
        "special.beta(x,1)"
      ],
      "execution_count": 0,
      "outputs": []
    },
    {
      "cell_type": "code",
      "metadata": {
        "id": "drDM_tit3p2B",
        "colab_type": "code",
        "colab": {}
      },
      "source": [
        "special.beta(x,2)"
      ],
      "execution_count": 0,
      "outputs": []
    },
    {
      "cell_type": "code",
      "metadata": {
        "id": "hAzwMsQV30ac",
        "colab_type": "code",
        "colab": {}
      },
      "source": [
        "x = np.arange(5)\n",
        "x"
      ],
      "execution_count": 0,
      "outputs": []
    },
    {
      "cell_type": "code",
      "metadata": {
        "id": "3SVMkBSo333M",
        "colab_type": "code",
        "colab": {}
      },
      "source": [
        "y = np.empty(5)\n",
        "y"
      ],
      "execution_count": 0,
      "outputs": []
    },
    {
      "cell_type": "code",
      "metadata": {
        "id": "hyvrHhcF39vR",
        "colab_type": "code",
        "colab": {}
      },
      "source": [
        "np.multiply(x,10,out=y)"
      ],
      "execution_count": 0,
      "outputs": []
    },
    {
      "cell_type": "code",
      "metadata": {
        "id": "KvemgNCW4KCP",
        "colab_type": "code",
        "colab": {}
      },
      "source": [
        "y"
      ],
      "execution_count": 0,
      "outputs": []
    },
    {
      "cell_type": "code",
      "metadata": {
        "id": "vKvcUMxp4gBK",
        "colab_type": "code",
        "colab": {}
      },
      "source": [
        "y = np.zeros(10)\n",
        "print(y)\n",
        "np.power(2,x,out=y[::2])"
      ],
      "execution_count": 0,
      "outputs": []
    },
    {
      "cell_type": "code",
      "metadata": {
        "id": "SjCxZSD3EZug",
        "colab_type": "code",
        "colab": {}
      },
      "source": [
        "y"
      ],
      "execution_count": 0,
      "outputs": []
    },
    {
      "cell_type": "markdown",
      "metadata": {
        "id": "0rtCheTfF6ZT",
        "colab_type": "text"
      },
      "source": [
        "##Aggregates"
      ]
    },
    {
      "cell_type": "code",
      "metadata": {
        "id": "2WeZp9bCF8dy",
        "colab_type": "code",
        "colab": {}
      },
      "source": [
        "#reduce function repeatedly applies a given operation to the e;lements of an array until only a single result remains.\n",
        "\n",
        "x = np.arange(1,6)\n",
        "print(x)\n",
        "np.add.reduce(x)"
      ],
      "execution_count": 0,
      "outputs": []
    },
    {
      "cell_type": "code",
      "metadata": {
        "id": "sFs-CTVvHhvF",
        "colab_type": "code",
        "colab": {}
      },
      "source": [
        "np.sum(x)"
      ],
      "execution_count": 0,
      "outputs": []
    },
    {
      "cell_type": "code",
      "metadata": {
        "id": "uaeAyvFLHn3_",
        "colab_type": "code",
        "colab": {}
      },
      "source": [
        "np.multiply.reduce(x)"
      ],
      "execution_count": 0,
      "outputs": []
    },
    {
      "cell_type": "markdown",
      "metadata": {
        "id": "xc4iRPM0IAKG",
        "colab_type": "text"
      },
      "source": [
        "##store all intermediate results of computation using accumulate method in numpy"
      ]
    },
    {
      "cell_type": "code",
      "metadata": {
        "id": "C3uOIm3jH4Io",
        "colab_type": "code",
        "colab": {}
      },
      "source": [
        "np.add.accumulate(x)"
      ],
      "execution_count": 0,
      "outputs": []
    },
    {
      "cell_type": "code",
      "metadata": {
        "id": "6rH3wWPSImO9",
        "colab_type": "code",
        "colab": {}
      },
      "source": [
        "np.multiply.accumulate(x)"
      ],
      "execution_count": 0,
      "outputs": []
    },
    {
      "cell_type": "markdown",
      "metadata": {
        "id": "gI7sPFo5L5Fq",
        "colab_type": "text"
      },
      "source": [
        "##Outer Products"
      ]
    },
    {
      "cell_type": "code",
      "metadata": {
        "id": "77qvRIbbL8RO",
        "colab_type": "code",
        "colab": {}
      },
      "source": [
        "#create a multiplication Table\n",
        "x = np.arange(1,6)\n",
        "np.multiply.outer(x,x)"
      ],
      "execution_count": 0,
      "outputs": []
    },
    {
      "cell_type": "code",
      "metadata": {
        "id": "D491jtfMQT_0",
        "colab_type": "code",
        "colab": {}
      },
      "source": [
        "L = np.random.random(100)\n",
        "print(L)\n",
        "sum(L)"
      ],
      "execution_count": 0,
      "outputs": []
    },
    {
      "cell_type": "code",
      "metadata": {
        "id": "Ds7cGncWRAHW",
        "colab_type": "code",
        "colab": {}
      },
      "source": [
        "np.sum(L)"
      ],
      "execution_count": 0,
      "outputs": []
    },
    {
      "cell_type": "code",
      "metadata": {
        "id": "D5ifASf3Si6-",
        "colab_type": "code",
        "colab": {}
      },
      "source": [
        "big_array = np.random.rand(1000000)\n",
        "%timeit sum(big_array)"
      ],
      "execution_count": 0,
      "outputs": []
    },
    {
      "cell_type": "code",
      "metadata": {
        "id": "-qhryvDBS7V_",
        "colab_type": "code",
        "colab": {}
      },
      "source": [
        "%timeit np.sum(big_array)"
      ],
      "execution_count": 0,
      "outputs": []
    },
    {
      "cell_type": "code",
      "metadata": {
        "id": "oNBTFIwWTFCI",
        "colab_type": "code",
        "colab": {}
      },
      "source": [
        "min(big_array),max(big_array)"
      ],
      "execution_count": 0,
      "outputs": []
    },
    {
      "cell_type": "code",
      "metadata": {
        "id": "wTFfzEVgTdTU",
        "colab_type": "code",
        "colab": {}
      },
      "source": [
        "big_array.sum(),big_array.max(),big_array.min()"
      ],
      "execution_count": 0,
      "outputs": []
    },
    {
      "cell_type": "markdown",
      "metadata": {
        "id": "rgExlIfdT05F",
        "colab_type": "text"
      },
      "source": [
        "##Multidimensional aggregates"
      ]
    },
    {
      "cell_type": "code",
      "metadata": {
        "id": "cycHau8XUZId",
        "colab_type": "code",
        "colab": {}
      },
      "source": [
        "m = np.random.random((3,4))\n",
        "m"
      ],
      "execution_count": 0,
      "outputs": []
    },
    {
      "cell_type": "code",
      "metadata": {
        "id": "j1hZ82qAUuru",
        "colab_type": "code",
        "colab": {}
      },
      "source": [
        "m.sum()"
      ],
      "execution_count": 0,
      "outputs": []
    },
    {
      "cell_type": "markdown",
      "metadata": {
        "id": "XQgTjEyYHtqP",
        "colab_type": "text"
      },
      "source": [
        "The axis keyword specifies the dimension of the array that will be collapsed rather than the dimension that will be returned.axis =0  means that first axis will be collapsed for two dimensional arrays,this means that values within each column will be agreegated."
      ]
    },
    {
      "cell_type": "code",
      "metadata": {
        "id": "eG4hR1t7WTE1",
        "colab_type": "code",
        "colab": {}
      },
      "source": [
        "m.min(axis=0) #The function returns four values ,corresponding to four columns of numbers"
      ],
      "execution_count": 0,
      "outputs": []
    },
    {
      "cell_type": "code",
      "metadata": {
        "id": "3rutxjCSWZs3",
        "colab_type": "code",
        "colab": {}
      },
      "source": [
        "m.min(axis=1)"
      ],
      "execution_count": 0,
      "outputs": []
    },
    {
      "cell_type": "code",
      "metadata": {
        "id": "KL8_olWXJT4g",
        "colab_type": "code",
        "colab": {}
      },
      "source": [
        "m.max(axis=1)"
      ],
      "execution_count": 0,
      "outputs": []
    },
    {
      "cell_type": "code",
      "metadata": {
        "id": "cpvSCqDLJc2-",
        "colab_type": "code",
        "colab": {}
      },
      "source": [
        "m.max(axis=0)"
      ],
      "execution_count": 0,
      "outputs": []
    },
    {
      "cell_type": "markdown",
      "metadata": {
        "id": "5QEMa9iJJnfy",
        "colab_type": "text"
      },
      "source": [
        "##Broadcasting\n",
        "\n",
        "Numpys universal function can be used to vectorize operations and thereby remove slow Python loops."
      ]
    },
    {
      "cell_type": "code",
      "metadata": {
        "id": "-txyuFk-Lw0e",
        "colab_type": "code",
        "colab": {}
      },
      "source": [
        "a = np.array([0,1,2])\n",
        "b = np.array([5,5,5])\n",
        "a + b"
      ],
      "execution_count": 0,
      "outputs": []
    },
    {
      "cell_type": "markdown",
      "metadata": {
        "id": "QQ2Oy7ZTPvg4",
        "colab_type": "text"
      },
      "source": [
        "Broadcasting allows different types of binary operations to be performed on array of different sizes"
      ]
    },
    {
      "cell_type": "code",
      "metadata": {
        "id": "EQdqv7-QSPS1",
        "colab_type": "code",
        "colab": {}
      },
      "source": [
        "a.ndim"
      ],
      "execution_count": 0,
      "outputs": []
    },
    {
      "cell_type": "code",
      "metadata": {
        "id": "xRIeAs1uVO1Z",
        "colab_type": "code",
        "colab": {}
      },
      "source": [
        "a.shape"
      ],
      "execution_count": 0,
      "outputs": []
    },
    {
      "cell_type": "code",
      "metadata": {
        "id": "cbMtwpora_tU",
        "colab_type": "code",
        "colab": {}
      },
      "source": [
        "a.size"
      ],
      "execution_count": 0,
      "outputs": []
    },
    {
      "cell_type": "code",
      "metadata": {
        "id": "h5f1qexma3Ix",
        "colab_type": "code",
        "colab": {}
      },
      "source": [
        "a.itemsize"
      ],
      "execution_count": 0,
      "outputs": []
    },
    {
      "cell_type": "code",
      "metadata": {
        "id": "4UcC7LFfbCit",
        "colab_type": "code",
        "colab": {}
      },
      "source": [
        "a.nbytes"
      ],
      "execution_count": 0,
      "outputs": []
    },
    {
      "cell_type": "code",
      "metadata": {
        "id": "_FxagrbnbnyV",
        "colab_type": "code",
        "colab": {}
      },
      "source": [
        "M = np.ones((3,3))\n",
        "M"
      ],
      "execution_count": 0,
      "outputs": []
    },
    {
      "cell_type": "code",
      "metadata": {
        "id": "e-VZn-UmbujL",
        "colab_type": "code",
        "colab": {}
      },
      "source": [
        "a=  a+ 5\n"
      ],
      "execution_count": 0,
      "outputs": []
    },
    {
      "cell_type": "code",
      "metadata": {
        "id": "MBdOWaDCb3PW",
        "colab_type": "code",
        "colab": {}
      },
      "source": [
        "a"
      ],
      "execution_count": 0,
      "outputs": []
    },
    {
      "cell_type": "code",
      "metadata": {
        "id": "0AVzbPBcb-XB",
        "colab_type": "code",
        "colab": {}
      },
      "source": [
        "M.shape"
      ],
      "execution_count": 0,
      "outputs": []
    },
    {
      "cell_type": "code",
      "metadata": {
        "id": "ey_qDTRAcBTQ",
        "colab_type": "code",
        "colab": {}
      },
      "source": [
        "a.shape"
      ],
      "execution_count": 0,
      "outputs": []
    },
    {
      "cell_type": "code",
      "metadata": {
        "id": "yf2tslA5b4jF",
        "colab_type": "code",
        "colab": {}
      },
      "source": [
        "M + a"
      ],
      "execution_count": 0,
      "outputs": []
    },
    {
      "cell_type": "code",
      "metadata": {
        "id": "RmyUyCdWcEJ5",
        "colab_type": "code",
        "colab": {}
      },
      "source": [
        "(M + a).shape"
      ],
      "execution_count": 0,
      "outputs": []
    },
    {
      "cell_type": "markdown",
      "metadata": {
        "id": "Rr4_ohycgJxi",
        "colab_type": "text"
      },
      "source": [
        "##Example2 "
      ]
    },
    {
      "cell_type": "code",
      "metadata": {
        "id": "Ny7OVF4ogNun",
        "colab_type": "code",
        "colab": {
          "base_uri": "https://localhost:8080/",
          "height": 34
        },
        "outputId": "a07de161-6d43-43b1-88a7-56bd28d94ca0"
      },
      "source": [
        "a = np.arange(3)#create 3 columns\n",
        "a"
      ],
      "execution_count": 22,
      "outputs": [
        {
          "output_type": "execute_result",
          "data": {
            "text/plain": [
              "array([0, 1, 2])"
            ]
          },
          "metadata": {
            "tags": []
          },
          "execution_count": 22
        }
      ]
    },
    {
      "cell_type": "code",
      "metadata": {
        "id": "8P1MH85TgZlH",
        "colab_type": "code",
        "colab": {
          "base_uri": "https://localhost:8080/",
          "height": 34
        },
        "outputId": "a257f8c9-ac15-4c5c-bfdd-6fc0694bcd34"
      },
      "source": [
        "np.arange(3).reshape(3,1).shape#create 3 rows"
      ],
      "execution_count": 23,
      "outputs": [
        {
          "output_type": "execute_result",
          "data": {
            "text/plain": [
              "(3, 1)"
            ]
          },
          "metadata": {
            "tags": []
          },
          "execution_count": 23
        }
      ]
    },
    {
      "cell_type": "code",
      "metadata": {
        "id": "tJYA_3X6gSeI",
        "colab_type": "code",
        "colab": {
          "base_uri": "https://localhost:8080/",
          "height": 68
        },
        "outputId": "28589e20-72df-42c9-b5ce-8b898507ed89"
      },
      "source": [
        "b = np.arange(3)[:,np.newaxis]\n",
        "b"
      ],
      "execution_count": 24,
      "outputs": [
        {
          "output_type": "execute_result",
          "data": {
            "text/plain": [
              "array([[0],\n",
              "       [1],\n",
              "       [2]])"
            ]
          },
          "metadata": {
            "tags": []
          },
          "execution_count": 24
        }
      ]
    },
    {
      "cell_type": "code",
      "metadata": {
        "id": "Di0DPpoogyu-",
        "colab_type": "code",
        "colab": {
          "base_uri": "https://localhost:8080/",
          "height": 34
        },
        "outputId": "61e9b2e5-3935-46d4-a9ed-628a6a585462"
      },
      "source": [
        "a.shape"
      ],
      "execution_count": 25,
      "outputs": [
        {
          "output_type": "execute_result",
          "data": {
            "text/plain": [
              "(3,)"
            ]
          },
          "metadata": {
            "tags": []
          },
          "execution_count": 25
        }
      ]
    },
    {
      "cell_type": "code",
      "metadata": {
        "id": "nVpx8PNDglHd",
        "colab_type": "code",
        "colab": {
          "base_uri": "https://localhost:8080/",
          "height": 34
        },
        "outputId": "8f73b733-8e6d-48f3-c6ca-ce6cb7c48e45"
      },
      "source": [
        "b.shape"
      ],
      "execution_count": 26,
      "outputs": [
        {
          "output_type": "execute_result",
          "data": {
            "text/plain": [
              "(3, 1)"
            ]
          },
          "metadata": {
            "tags": []
          },
          "execution_count": 26
        }
      ]
    },
    {
      "cell_type": "code",
      "metadata": {
        "id": "CjjTwihrxl6p",
        "colab_type": "code",
        "colab": {
          "base_uri": "https://localhost:8080/",
          "height": 34
        },
        "outputId": "7458a3c6-6b92-4982-8dc5-f3601caf52df"
      },
      "source": [
        "(a+b).shape"
      ],
      "execution_count": 27,
      "outputs": [
        {
          "output_type": "execute_result",
          "data": {
            "text/plain": [
              "(3, 3)"
            ]
          },
          "metadata": {
            "tags": []
          },
          "execution_count": 27
        }
      ]
    },
    {
      "cell_type": "code",
      "metadata": {
        "id": "l7TyY4cVx34u",
        "colab_type": "code",
        "colab": {
          "base_uri": "https://localhost:8080/",
          "height": 68
        },
        "outputId": "142f7cba-dc47-48e8-a7fc-946dcdaf55d3"
      },
      "source": [
        "a + b"
      ],
      "execution_count": 28,
      "outputs": [
        {
          "output_type": "execute_result",
          "data": {
            "text/plain": [
              "array([[0, 1, 2],\n",
              "       [1, 2, 3],\n",
              "       [2, 3, 4]])"
            ]
          },
          "metadata": {
            "tags": []
          },
          "execution_count": 28
        }
      ]
    },
    {
      "cell_type": "markdown",
      "metadata": {
        "id": "WRwuqCi1x89B",
        "colab_type": "text"
      },
      "source": [
        "Example 3"
      ]
    },
    {
      "cell_type": "code",
      "metadata": {
        "id": "YkDAwj0JyAI6",
        "colab_type": "code",
        "colab": {}
      },
      "source": [
        "M = np.ones((3,2))\n",
        "a = np.arange(3)"
      ],
      "execution_count": 0,
      "outputs": []
    },
    {
      "cell_type": "code",
      "metadata": {
        "id": "gNQTwP0dyjMk",
        "colab_type": "code",
        "colab": {
          "base_uri": "https://localhost:8080/",
          "height": 34
        },
        "outputId": "143b1f49-caff-4700-c833-b684fae6bc14"
      },
      "source": [
        "M.shape"
      ],
      "execution_count": 30,
      "outputs": [
        {
          "output_type": "execute_result",
          "data": {
            "text/plain": [
              "(3, 2)"
            ]
          },
          "metadata": {
            "tags": []
          },
          "execution_count": 30
        }
      ]
    },
    {
      "cell_type": "code",
      "metadata": {
        "id": "ev32FhXIzcKK",
        "colab_type": "code",
        "colab": {
          "base_uri": "https://localhost:8080/",
          "height": 68
        },
        "outputId": "bc7738f7-b09f-4e2c-c62f-53aac58e4c32"
      },
      "source": [
        "M"
      ],
      "execution_count": 35,
      "outputs": [
        {
          "output_type": "execute_result",
          "data": {
            "text/plain": [
              "array([[1., 1.],\n",
              "       [1., 1.],\n",
              "       [1., 1.]])"
            ]
          },
          "metadata": {
            "tags": []
          },
          "execution_count": 35
        }
      ]
    },
    {
      "cell_type": "code",
      "metadata": {
        "id": "nAA8At7syosB",
        "colab_type": "code",
        "colab": {
          "base_uri": "https://localhost:8080/",
          "height": 34
        },
        "outputId": "dab65013-1245-4a0a-b9ec-a1511688015b"
      },
      "source": [
        "a.shape## columns 3 rows 1"
      ],
      "execution_count": 31,
      "outputs": [
        {
          "output_type": "execute_result",
          "data": {
            "text/plain": [
              "(3,)"
            ]
          },
          "metadata": {
            "tags": []
          },
          "execution_count": 31
        }
      ]
    },
    {
      "cell_type": "code",
      "metadata": {
        "id": "gzo_g6O5zeZi",
        "colab_type": "code",
        "colab": {
          "base_uri": "https://localhost:8080/",
          "height": 34
        },
        "outputId": "0c568abb-7cca-4a23-efdc-4f6f647653e3"
      },
      "source": [
        "a"
      ],
      "execution_count": 36,
      "outputs": [
        {
          "output_type": "execute_result",
          "data": {
            "text/plain": [
              "array([0, 1, 2])"
            ]
          },
          "metadata": {
            "tags": []
          },
          "execution_count": 36
        }
      ]
    },
    {
      "cell_type": "code",
      "metadata": {
        "id": "CeGEwiQIzaCm",
        "colab_type": "code",
        "colab": {
          "base_uri": "https://localhost:8080/",
          "height": 34
        },
        "outputId": "c06659bd-db85-448e-b652-3d64f5c9c59a"
      },
      "source": [
        "a"
      ],
      "execution_count": 34,
      "outputs": [
        {
          "output_type": "execute_result",
          "data": {
            "text/plain": [
              "array([0, 1, 2])"
            ]
          },
          "metadata": {
            "tags": []
          },
          "execution_count": 34
        }
      ]
    },
    {
      "cell_type": "code",
      "metadata": {
        "id": "ORrMTF_Oz3kt",
        "colab_type": "code",
        "colab": {
          "base_uri": "https://localhost:8080/",
          "height": 163
        },
        "outputId": "8017bc0d-c92b-424e-f0e7-964fb54e0507"
      },
      "source": [
        "M + a"
      ],
      "execution_count": 37,
      "outputs": [
        {
          "output_type": "error",
          "ename": "ValueError",
          "evalue": "ignored",
          "traceback": [
            "\u001b[0;31m---------------------------------------------------------------------------\u001b[0m",
            "\u001b[0;31mValueError\u001b[0m                                Traceback (most recent call last)",
            "\u001b[0;32m<ipython-input-37-8cac1d547906>\u001b[0m in \u001b[0;36m<module>\u001b[0;34m()\u001b[0m\n\u001b[0;32m----> 1\u001b[0;31m \u001b[0mM\u001b[0m \u001b[0;34m+\u001b[0m \u001b[0ma\u001b[0m\u001b[0;34m\u001b[0m\u001b[0;34m\u001b[0m\u001b[0m\n\u001b[0m",
            "\u001b[0;31mValueError\u001b[0m: operands could not be broadcast together with shapes (3,2) (3,) "
          ]
        }
      ]
    },
    {
      "cell_type": "code",
      "metadata": {
        "id": "qaMK9NHAzCol",
        "colab_type": "code",
        "colab": {
          "base_uri": "https://localhost:8080/",
          "height": 68
        },
        "outputId": "0aa908d1-a374-4a89-baea-7e33b868c878"
      },
      "source": [
        "M + a.reshape(3,1)"
      ],
      "execution_count": 33,
      "outputs": [
        {
          "output_type": "execute_result",
          "data": {
            "text/plain": [
              "array([[1., 1.],\n",
              "       [2., 2.],\n",
              "       [3., 3.]])"
            ]
          },
          "metadata": {
            "tags": []
          },
          "execution_count": 33
        }
      ]
    },
    {
      "cell_type": "code",
      "metadata": {
        "id": "mEaz-JkG0O8o",
        "colab_type": "code",
        "colab": {
          "base_uri": "https://localhost:8080/",
          "height": 68
        },
        "outputId": "649a8ab8-579b-4c24-beec-a2bd63fc55d1"
      },
      "source": [
        "M + a[:,np.newaxis]"
      ],
      "execution_count": 38,
      "outputs": [
        {
          "output_type": "execute_result",
          "data": {
            "text/plain": [
              "array([[1., 1.],\n",
              "       [2., 2.],\n",
              "       [3., 3.]])"
            ]
          },
          "metadata": {
            "tags": []
          },
          "execution_count": 38
        }
      ]
    },
    {
      "cell_type": "code",
      "metadata": {
        "id": "7wY3frJt0ZV9",
        "colab_type": "code",
        "colab": {
          "base_uri": "https://localhost:8080/",
          "height": 187
        },
        "outputId": "bbfb5ba2-e4e3-475e-e1ee-83f8bcb4994d"
      },
      "source": [
        "X = np.random.random((10,3))\n",
        "X"
      ],
      "execution_count": 39,
      "outputs": [
        {
          "output_type": "execute_result",
          "data": {
            "text/plain": [
              "array([[0.63680535, 0.76625616, 0.63121689],\n",
              "       [0.34222458, 0.42031652, 0.00515333],\n",
              "       [0.68249571, 0.17902796, 0.32603334],\n",
              "       [0.75366109, 0.75200237, 0.06485354],\n",
              "       [0.58617158, 0.28830033, 0.71046049],\n",
              "       [0.07221197, 0.387287  , 0.66362583],\n",
              "       [0.41654957, 0.62013913, 0.43399572],\n",
              "       [0.86636855, 0.03914887, 0.00959968],\n",
              "       [0.05212665, 0.09605398, 0.92255133],\n",
              "       [0.83705028, 0.65725139, 0.50199635]])"
            ]
          },
          "metadata": {
            "tags": []
          },
          "execution_count": 39
        }
      ]
    },
    {
      "cell_type": "code",
      "metadata": {
        "id": "XTo2AIst1_zI",
        "colab_type": "code",
        "colab": {
          "base_uri": "https://localhost:8080/",
          "height": 34
        },
        "outputId": "8b2d0306-1c1a-4d14-e8f0-de3e79d152f3"
      },
      "source": [
        "X[0]"
      ],
      "execution_count": 40,
      "outputs": [
        {
          "output_type": "execute_result",
          "data": {
            "text/plain": [
              "array([0.63680535, 0.76625616, 0.63121689])"
            ]
          },
          "metadata": {
            "tags": []
          },
          "execution_count": 40
        }
      ]
    },
    {
      "cell_type": "code",
      "metadata": {
        "id": "wCQFq8892DQ1",
        "colab_type": "code",
        "colab": {}
      },
      "source": [
        "Xmean = X - X.mean()"
      ],
      "execution_count": 0,
      "outputs": []
    },
    {
      "cell_type": "code",
      "metadata": {
        "id": "O9qPTf8x2H8K",
        "colab_type": "code",
        "colab": {
          "base_uri": "https://localhost:8080/",
          "height": 187
        },
        "outputId": "d5465ce6-a822-43ed-b549-c07e6780d47a"
      },
      "source": [
        "Xmean ##centered mean"
      ],
      "execution_count": 42,
      "outputs": [
        {
          "output_type": "execute_result",
          "data": {
            "text/plain": [
              "array([[ 0.17944083,  0.30889164,  0.17385237],\n",
              "       [-0.11513993, -0.03704799, -0.45221119],\n",
              "       [ 0.22513119, -0.27833655, -0.13133118],\n",
              "       [ 0.29629657,  0.29463785, -0.39251098],\n",
              "       [ 0.12880706, -0.16906419,  0.25309597],\n",
              "       [-0.38515254, -0.07007752,  0.20626131],\n",
              "       [-0.04081495,  0.16277461, -0.0233688 ],\n",
              "       [ 0.40900403, -0.41821564, -0.44776484],\n",
              "       [-0.40523787, -0.36131054,  0.46518681],\n",
              "       [ 0.37968576,  0.19988688,  0.04463183]])"
            ]
          },
          "metadata": {
            "tags": []
          },
          "execution_count": 42
        }
      ]
    },
    {
      "cell_type": "code",
      "metadata": {
        "id": "2eTgAbFy2PhD",
        "colab_type": "code",
        "colab": {}
      },
      "source": [
        "x = np.linspace(0,50,50)\n",
        "y = np.linspace(0,50,50)[:,np.newaxis]\n",
        "z = np.sin(x) **10 + np.cos(10+ y* x)* np.cos(x)"
      ],
      "execution_count": 0,
      "outputs": []
    },
    {
      "cell_type": "code",
      "metadata": {
        "id": "BniSlfFL3lCD",
        "colab_type": "code",
        "colab": {
          "base_uri": "https://localhost:8080/",
          "height": 286
        },
        "outputId": "b4be657b-4a4a-4b73-8d4f-c4a9a03a276c"
      },
      "source": [
        "import matplotlib.pyplot as plt\n",
        "%matplotlib inline\n",
        "plt.imshow(z,origin='lower',extent=[0,5,0,5])\n",
        "plt.colorbar()"
      ],
      "execution_count": 44,
      "outputs": [
        {
          "output_type": "execute_result",
          "data": {
            "text/plain": [
              "<matplotlib.colorbar.Colorbar at 0x7f4b1810c4e0>"
            ]
          },
          "metadata": {
            "tags": []
          },
          "execution_count": 44
        },
        {
          "output_type": "display_data",
          "data": {
            "image/png": "[encoded data removed]",
            "text/plain": [
              "<Figure size 432x288 with 2 Axes>"
            ]
          },
          "metadata": {
            "tags": []
          }
        }
      ]
    },
    {
      "cell_type": "markdown",
      "metadata": {
        "id": "5vqqTzPi4GBh",
        "colab_type": "text"
      },
      "source": [
        "##Comparison Operators"
      ]
    },
    {
      "cell_type": "code",
      "metadata": {
        "id": "v_ikEbr44IIx",
        "colab_type": "code",
        "colab": {
          "base_uri": "https://localhost:8080/",
          "height": 34
        },
        "outputId": "bd2676eb-309a-4b6e-b940-d0fd3ec10e79"
      },
      "source": [
        "x = np.array([1,2,3,4,5])\n",
        "x < 3"
      ],
      "execution_count": 45,
      "outputs": [
        {
          "output_type": "execute_result",
          "data": {
            "text/plain": [
              "array([ True,  True, False, False, False])"
            ]
          },
          "metadata": {
            "tags": []
          },
          "execution_count": 45
        }
      ]
    },
    {
      "cell_type": "markdown",
      "metadata": {
        "id": "D1vJntRV4mKX",
        "colab_type": "text"
      },
      "source": [
        "## Working with Boolen arrays"
      ]
    },
    {
      "cell_type": "code",
      "metadata": {
        "id": "vweV9L8E4dcb",
        "colab_type": "code",
        "colab": {
          "base_uri": "https://localhost:8080/",
          "height": 34
        },
        "outputId": "03cbf705-c7a4-4dd9-d0e0-bad32fa1e502"
      },
      "source": [
        "np.where(x < 3)"
      ],
      "execution_count": 46,
      "outputs": [
        {
          "output_type": "execute_result",
          "data": {
            "text/plain": [
              "(array([0, 1]),)"
            ]
          },
          "metadata": {
            "tags": []
          },
          "execution_count": 46
        }
      ]
    },
    {
      "cell_type": "code",
      "metadata": {
        "id": "3VTqcY8a40dF",
        "colab_type": "code",
        "colab": {
          "base_uri": "https://localhost:8080/",
          "height": 34
        },
        "outputId": "a61157af-8cab-44ad-b6d2-cb4621378c2e"
      },
      "source": [
        "np.count_nonzero(x < 6)"
      ],
      "execution_count": 47,
      "outputs": [
        {
          "output_type": "execute_result",
          "data": {
            "text/plain": [
              "5"
            ]
          },
          "metadata": {
            "tags": []
          },
          "execution_count": 47
        }
      ]
    },
    {
      "cell_type": "code",
      "metadata": {
        "id": "ACzSNDgX5BYB",
        "colab_type": "code",
        "colab": {
          "base_uri": "https://localhost:8080/",
          "height": 34
        },
        "outputId": "53327549-03c7-4c55-8546-b4c5cc39d790"
      },
      "source": [
        "np.sum(x < 6)"
      ],
      "execution_count": 48,
      "outputs": [
        {
          "output_type": "execute_result",
          "data": {
            "text/plain": [
              "5"
            ]
          },
          "metadata": {
            "tags": []
          },
          "execution_count": 48
        }
      ]
    },
    {
      "cell_type": "code",
      "metadata": {
        "id": "2PDObiUP5gW0",
        "colab_type": "code",
        "colab": {
          "base_uri": "https://localhost:8080/",
          "height": 34
        },
        "outputId": "92fdfc22-6c51-4fdb-fc11-0dbef7375d1b"
      },
      "source": [
        "np.any(x > 8)"
      ],
      "execution_count": 50,
      "outputs": [
        {
          "output_type": "execute_result",
          "data": {
            "text/plain": [
              "False"
            ]
          },
          "metadata": {
            "tags": []
          },
          "execution_count": 50
        }
      ]
    },
    {
      "cell_type": "code",
      "metadata": {
        "id": "NgwzXExT5ixM",
        "colab_type": "code",
        "colab": {
          "base_uri": "https://localhost:8080/",
          "height": 34
        },
        "outputId": "8b1d8f71-c208-4df0-ae9b-680444493c5c"
      },
      "source": [
        "np.any(x < 8)"
      ],
      "execution_count": 51,
      "outputs": [
        {
          "output_type": "execute_result",
          "data": {
            "text/plain": [
              "True"
            ]
          },
          "metadata": {
            "tags": []
          },
          "execution_count": 51
        }
      ]
    },
    {
      "cell_type": "code",
      "metadata": {
        "id": "EXLI4bNa5pEg",
        "colab_type": "code",
        "colab": {
          "base_uri": "https://localhost:8080/",
          "height": 34
        },
        "outputId": "5f5c267d-8c75-4760-9654-2979f66f6c10"
      },
      "source": [
        "np.all(x < 8)"
      ],
      "execution_count": 52,
      "outputs": [
        {
          "output_type": "execute_result",
          "data": {
            "text/plain": [
              "True"
            ]
          },
          "metadata": {
            "tags": []
          },
          "execution_count": 52
        }
      ]
    },
    {
      "cell_type": "markdown",
      "metadata": {
        "id": "UNHtWjq07_uN",
        "colab_type": "text"
      },
      "source": [
        "##Fancy indexing"
      ]
    },
    {
      "cell_type": "code",
      "metadata": {
        "id": "YARqoGmu5zYG",
        "colab_type": "code",
        "colab": {
          "base_uri": "https://localhost:8080/",
          "height": 34
        },
        "outputId": "7c4571f0-7883-46e2-bb91-4e431860115f"
      },
      "source": [
        "rand = np.random.RandomState(42)\n",
        "rand"
      ],
      "execution_count": 54,
      "outputs": [
        {
          "output_type": "execute_result",
          "data": {
            "text/plain": [
              "RandomState(MT19937) at 0x7F4B18E49DB0"
            ]
          },
          "metadata": {
            "tags": []
          },
          "execution_count": 54
        }
      ]
    },
    {
      "cell_type": "code",
      "metadata": {
        "id": "yGSwlarb9IbN",
        "colab_type": "code",
        "colab": {
          "base_uri": "https://localhost:8080/",
          "height": 34
        },
        "outputId": "03e94ccc-7640-4814-eacc-28424321c17d"
      },
      "source": [
        "x = rand.randint(100,size=10)\n",
        "x"
      ],
      "execution_count": 56,
      "outputs": [
        {
          "output_type": "execute_result",
          "data": {
            "text/plain": [
              "array([87, 99, 23,  2, 21, 52,  1, 87, 29, 37])"
            ]
          },
          "metadata": {
            "tags": []
          },
          "execution_count": 56
        }
      ]
    },
    {
      "cell_type": "code",
      "metadata": {
        "id": "pbfL2wp_9UFR",
        "colab_type": "code",
        "colab": {
          "base_uri": "https://localhost:8080/",
          "height": 34
        },
        "outputId": "8651b52e-f86a-4a0b-8503-dc9b4e7ea1ed"
      },
      "source": [
        "ind = [3,8,9]\n",
        "x[ind]"
      ],
      "execution_count": 58,
      "outputs": [
        {
          "output_type": "execute_result",
          "data": {
            "text/plain": [
              "array([ 2, 29, 37])"
            ]
          },
          "metadata": {
            "tags": []
          },
          "execution_count": 58
        }
      ]
    },
    {
      "cell_type": "code",
      "metadata": {
        "id": "acZe3boT9gs6",
        "colab_type": "code",
        "colab": {
          "base_uri": "https://localhost:8080/",
          "height": 68
        },
        "outputId": "c3553192-7ac2-4cce-cee2-bd5cc6fa1eac"
      },
      "source": [
        "X = np.arange(12).reshape((3,4))\n",
        "X"
      ],
      "execution_count": 59,
      "outputs": [
        {
          "output_type": "execute_result",
          "data": {
            "text/plain": [
              "array([[ 0,  1,  2,  3],\n",
              "       [ 4,  5,  6,  7],\n",
              "       [ 8,  9, 10, 11]])"
            ]
          },
          "metadata": {
            "tags": []
          },
          "execution_count": 59
        }
      ]
    },
    {
      "cell_type": "markdown",
      "metadata": {
        "id": "X6GULC3U-rXf",
        "colab_type": "text"
      },
      "source": [
        "##Sorting Arrays"
      ]
    },
    {
      "cell_type": "code",
      "metadata": {
        "id": "z-SYGX_2-tYl",
        "colab_type": "code",
        "colab": {
          "base_uri": "https://localhost:8080/",
          "height": 34
        },
        "outputId": "6f5fd172-8468-476a-e3e3-8eac9a0ea69d"
      },
      "source": [
        "x = np.array([2,1,4,5,6,7])\n",
        "np.sort(x)"
      ],
      "execution_count": 63,
      "outputs": [
        {
          "output_type": "execute_result",
          "data": {
            "text/plain": [
              "array([1, 2, 4, 5, 6, 7])"
            ]
          },
          "metadata": {
            "tags": []
          },
          "execution_count": 63
        }
      ]
    },
    {
      "cell_type": "code",
      "metadata": {
        "id": "P7ZnF6Oi_ISJ",
        "colab_type": "code",
        "colab": {
          "base_uri": "https://localhost:8080/",
          "height": 34
        },
        "outputId": "3e7fa599-2253-49fd-960e-7a632c8b82cf"
      },
      "source": [
        "x"
      ],
      "execution_count": 64,
      "outputs": [
        {
          "output_type": "execute_result",
          "data": {
            "text/plain": [
              "array([2, 1, 4, 5, 6, 7])"
            ]
          },
          "metadata": {
            "tags": []
          },
          "execution_count": 64
        }
      ]
    },
    {
      "cell_type": "code",
      "metadata": {
        "id": "7RzwKbu5_Rlc",
        "colab_type": "code",
        "colab": {
          "base_uri": "https://localhost:8080/",
          "height": 34
        },
        "outputId": "3301d782-fdf2-45c2-eb7f-353bb8f9cea9"
      },
      "source": [
        "np.argsort(x)"
      ],
      "execution_count": 65,
      "outputs": [
        {
          "output_type": "execute_result",
          "data": {
            "text/plain": [
              "array([1, 0, 2, 3, 4, 5])"
            ]
          },
          "metadata": {
            "tags": []
          },
          "execution_count": 65
        }
      ]
    },
    {
      "cell_type": "code",
      "metadata": {
        "id": "VZZasC2n_C1n",
        "colab_type": "code",
        "colab": {}
      },
      "source": [
        "x.sort() # sort the array in-place"
      ],
      "execution_count": 0,
      "outputs": []
    },
    {
      "cell_type": "code",
      "metadata": {
        "id": "Xd49bLIPB35f",
        "colab_type": "code",
        "colab": {
          "base_uri": "https://localhost:8080/",
          "height": 34
        },
        "outputId": "3da824c4-e001-482a-a8d7-8fb8f433f55f"
      },
      "source": [
        "x"
      ],
      "execution_count": 67,
      "outputs": [
        {
          "output_type": "execute_result",
          "data": {
            "text/plain": [
              "array([1, 2, 4, 5, 6, 7])"
            ]
          },
          "metadata": {
            "tags": []
          },
          "execution_count": 67
        }
      ]
    },
    {
      "cell_type": "markdown",
      "metadata": {
        "id": "pZO9x60wCLrc",
        "colab_type": "text"
      },
      "source": [
        "##Sorting along rows or columns"
      ]
    },
    {
      "cell_type": "code",
      "metadata": {
        "id": "RKwNrn8lCO1S",
        "colab_type": "code",
        "colab": {
          "base_uri": "https://localhost:8080/",
          "height": 85
        },
        "outputId": "96afbebc-f171-4d0c-ce32-eee6eca39788"
      },
      "source": [
        "rand = np.random.RandomState(42)\n",
        "X = rand.randint(0,10,(4,6))\n",
        "X#4 rows ,#6 columns"
      ],
      "execution_count": 68,
      "outputs": [
        {
          "output_type": "execute_result",
          "data": {
            "text/plain": [
              "array([[6, 3, 7, 4, 6, 9],\n",
              "       [2, 6, 7, 4, 3, 7],\n",
              "       [7, 2, 5, 4, 1, 7],\n",
              "       [5, 1, 4, 0, 9, 5]])"
            ]
          },
          "metadata": {
            "tags": []
          },
          "execution_count": 68
        }
      ]
    },
    {
      "cell_type": "code",
      "metadata": {
        "id": "9SbSO2-kGjyT",
        "colab_type": "code",
        "colab": {
          "base_uri": "https://localhost:8080/",
          "height": 85
        },
        "outputId": "56e2a8a5-463a-4c31-a03d-57afe539c12d"
      },
      "source": [
        "np.sort(X,axis=0) #sort each column of X"
      ],
      "execution_count": 69,
      "outputs": [
        {
          "output_type": "execute_result",
          "data": {
            "text/plain": [
              "array([[2, 1, 4, 0, 1, 5],\n",
              "       [5, 2, 5, 4, 3, 7],\n",
              "       [6, 3, 7, 4, 6, 7],\n",
              "       [7, 6, 7, 4, 9, 9]])"
            ]
          },
          "metadata": {
            "tags": []
          },
          "execution_count": 69
        }
      ]
    },
    {
      "cell_type": "code",
      "metadata": {
        "id": "xYdh2BFpGxGe",
        "colab_type": "code",
        "colab": {
          "base_uri": "https://localhost:8080/",
          "height": 85
        },
        "outputId": "0348913e-84dc-4c44-83e2-3e715e01ec63"
      },
      "source": [
        "np.sort(X,axis=1)# sort each row of X"
      ],
      "execution_count": 70,
      "outputs": [
        {
          "output_type": "execute_result",
          "data": {
            "text/plain": [
              "array([[3, 4, 6, 6, 7, 9],\n",
              "       [2, 3, 4, 6, 7, 7],\n",
              "       [1, 2, 4, 5, 7, 7],\n",
              "       [0, 1, 4, 5, 5, 9]])"
            ]
          },
          "metadata": {
            "tags": []
          },
          "execution_count": 70
        }
      ]
    },
    {
      "cell_type": "markdown",
      "metadata": {
        "id": "fuQlw_1GG-Vf",
        "colab_type": "text"
      },
      "source": [
        "##Partial Sorts : Partitioning\n",
        "\n",
        "np.partition takes aan array and a number K, the result is  new array with the smallest K values to the left of the partition."
      ]
    },
    {
      "cell_type": "code",
      "metadata": {
        "id": "8DRJGSwXHDLH",
        "colab_type": "code",
        "colab": {
          "base_uri": "https://localhost:8080/",
          "height": 34
        },
        "outputId": "7cc22e5c-e975-4364-9816-6c0ea41017b0"
      },
      "source": [
        "x = np.array([7,2,3,1,6,5,4])\n",
        "np.partition(x,3)"
      ],
      "execution_count": 72,
      "outputs": [
        {
          "output_type": "execute_result",
          "data": {
            "text/plain": [
              "array([2, 1, 3, 4, 6, 5, 7])"
            ]
          },
          "metadata": {
            "tags": []
          },
          "execution_count": 72
        }
      ]
    },
    {
      "cell_type": "code",
      "metadata": {
        "id": "YwBW0JTAH9Lg",
        "colab_type": "code",
        "colab": {
          "base_uri": "https://localhost:8080/",
          "height": 85
        },
        "outputId": "4b75ad94-b617-40e5-e202-76c3d03f0375"
      },
      "source": [
        "X"
      ],
      "execution_count": 74,
      "outputs": [
        {
          "output_type": "execute_result",
          "data": {
            "text/plain": [
              "array([[6, 3, 7, 4, 6, 9],\n",
              "       [2, 6, 7, 4, 3, 7],\n",
              "       [7, 2, 5, 4, 1, 7],\n",
              "       [5, 1, 4, 0, 9, 5]])"
            ]
          },
          "metadata": {
            "tags": []
          },
          "execution_count": 74
        }
      ]
    },
    {
      "cell_type": "code",
      "metadata": {
        "id": "1sSJ-hEPHwNr",
        "colab_type": "code",
        "colab": {
          "base_uri": "https://localhost:8080/",
          "height": 85
        },
        "outputId": "9c5b1793-9791-4e5c-ec3c-2bfbe68bb016"
      },
      "source": [
        "np.partition(X,3,axis=1)# row partitioning"
      ],
      "execution_count": 76,
      "outputs": [
        {
          "output_type": "execute_result",
          "data": {
            "text/plain": [
              "array([[3, 4, 6, 6, 7, 9],\n",
              "       [2, 3, 4, 6, 7, 7],\n",
              "       [2, 1, 4, 5, 7, 7],\n",
              "       [0, 4, 1, 5, 9, 5]])"
            ]
          },
          "metadata": {
            "tags": []
          },
          "execution_count": 76
        }
      ]
    },
    {
      "cell_type": "markdown",
      "metadata": {
        "id": "LPYztqLaKERY",
        "colab_type": "text"
      },
      "source": [
        "##Structured Array using Compound Data Type:"
      ]
    },
    {
      "cell_type": "code",
      "metadata": {
        "id": "e8IvLDUBKRxs",
        "colab_type": "code",
        "colab": {}
      },
      "source": [
        "name = ['Alice','Bob','Cathy','Doug']\n",
        "age = [25,47,37,19]\n",
        "weight = [55.0,85.5,68.0,61.5]"
      ],
      "execution_count": 0,
      "outputs": []
    },
    {
      "cell_type": "markdown",
      "metadata": {
        "id": "7Yc1k8NMKtxk",
        "colab_type": "text"
      },
      "source": [
        "ceating a structured array using compound data type specification"
      ]
    },
    {
      "cell_type": "code",
      "metadata": {
        "id": "InWEGKWFK0de",
        "colab_type": "code",
        "colab": {
          "base_uri": "https://localhost:8080/",
          "height": 34
        },
        "outputId": "11147ff8-7cb5-43a1-95a7-b9019c4f3719"
      },
      "source": [
        "data = np.zeros(4,dtype={'names':('name','age','weight'),'formats':('U10','i4','f8')})\n",
        "print(data.dtype)"
      ],
      "execution_count": 82,
      "outputs": [
        {
          "output_type": "stream",
          "text": [
            "[('name', '<U10'), ('age', '<i4'), ('weight', '<f8')]\n"
          ],
          "name": "stdout"
        }
      ]
    },
    {
      "cell_type": "code",
      "metadata": {
        "id": "Bl0704JNN4oB",
        "colab_type": "code",
        "colab": {}
      },
      "source": [
        "data['name'] = name\n",
        "data['age'] = age\n",
        "data['weight'] = weight"
      ],
      "execution_count": 0,
      "outputs": []
    },
    {
      "cell_type": "code",
      "metadata": {
        "id": "bQOmjxwnOK--",
        "colab_type": "code",
        "colab": {
          "base_uri": "https://localhost:8080/",
          "height": 68
        },
        "outputId": "7d35fe85-dd1d-420d-af84-f6f4cd5a38b0"
      },
      "source": [
        "data"
      ],
      "execution_count": 85,
      "outputs": [
        {
          "output_type": "execute_result",
          "data": {
            "text/plain": [
              "array([('Alice', 25, 55. ), ('Bob', 47, 85.5), ('Cathy', 37, 68. ),\n",
              "       ('Doug', 19, 61.5)],\n",
              "      dtype=[('name', '<U10'), ('age', '<i4'), ('weight', '<f8')])"
            ]
          },
          "metadata": {
            "tags": []
          },
          "execution_count": 85
        }
      ]
    },
    {
      "cell_type": "code",
      "metadata": {
        "id": "aH32707LOT0g",
        "colab_type": "code",
        "colab": {
          "base_uri": "https://localhost:8080/",
          "height": 34
        },
        "outputId": "e9b72609-773b-4904-957b-c3a1a990e177"
      },
      "source": [
        "data[-1]"
      ],
      "execution_count": 86,
      "outputs": [
        {
          "output_type": "execute_result",
          "data": {
            "text/plain": [
              "('Doug', 19, 61.5)"
            ]
          },
          "metadata": {
            "tags": []
          },
          "execution_count": 86
        }
      ]
    },
    {
      "cell_type": "markdown",
      "metadata": {
        "id": "F1VweYgiOYbw",
        "colab_type": "text"
      },
      "source": [
        "####get names where agae < 30"
      ]
    },
    {
      "cell_type": "code",
      "metadata": {
        "id": "iYdbM45UOhQk",
        "colab_type": "code",
        "colab": {
          "base_uri": "https://localhost:8080/",
          "height": 34
        },
        "outputId": "6fdd77b2-d6ac-482c-c491-6e7047f03d87"
      },
      "source": [
        "data[data['age'] < 30]['name']"
      ],
      "execution_count": 87,
      "outputs": [
        {
          "output_type": "execute_result",
          "data": {
            "text/plain": [
              "array(['Alice', 'Doug'], dtype='<U10')"
            ]
          },
          "metadata": {
            "tags": []
          },
          "execution_count": 87
        }
      ]
    },
    {
      "cell_type": "markdown",
      "metadata": {
        "id": "AlsGcfqCPSIU",
        "colab_type": "text"
      },
      "source": [
        "## Advanced Compound Types"
      ]
    },
    {
      "cell_type": "code",
      "metadata": {
        "id": "HFaUCmIAO2sw",
        "colab_type": "code",
        "colab": {
          "base_uri": "https://localhost:8080/",
          "height": 51
        },
        "outputId": "83cb9404-ec6a-4efe-c50f-dccaa36669e2"
      },
      "source": [
        "tp = np.dtype([('id','i8'),('mat','f8',(3,3))])\n",
        "X = np.zeros(1,dtype=tp)\n",
        "X"
      ],
      "execution_count": 88,
      "outputs": [
        {
          "output_type": "execute_result",
          "data": {
            "text/plain": [
              "array([(0, [[0., 0., 0.], [0., 0., 0.], [0., 0., 0.]])],\n",
              "      dtype=[('id', '<i8'), ('mat', '<f8', (3, 3))])"
            ]
          },
          "metadata": {
            "tags": []
          },
          "execution_count": 88
        }
      ]
    },
    {
      "cell_type": "code",
      "metadata": {
        "id": "GmitBxLePsSJ",
        "colab_type": "code",
        "colab": {
          "base_uri": "https://localhost:8080/",
          "height": 34
        },
        "outputId": "95611ede-b3ef-4242-df15-3179fe226c25"
      },
      "source": [
        "X['id']"
      ],
      "execution_count": 89,
      "outputs": [
        {
          "output_type": "execute_result",
          "data": {
            "text/plain": [
              "array([0])"
            ]
          },
          "metadata": {
            "tags": []
          },
          "execution_count": 89
        }
      ]
    },
    {
      "cell_type": "code",
      "metadata": {
        "id": "fbmz5IoePvbO",
        "colab_type": "code",
        "colab": {
          "base_uri": "https://localhost:8080/",
          "height": 68
        },
        "outputId": "caead5d8-bba1-4960-a025-424bf3f02599"
      },
      "source": [
        "X['mat']"
      ],
      "execution_count": 90,
      "outputs": [
        {
          "output_type": "execute_result",
          "data": {
            "text/plain": [
              "array([[[0., 0., 0.],\n",
              "        [0., 0., 0.],\n",
              "        [0., 0., 0.]]])"
            ]
          },
          "metadata": {
            "tags": []
          },
          "execution_count": 90
        }
      ]
    },
    {
      "cell_type": "markdown",
      "metadata": {
        "id": "aTxLJ-ZBQV0k",
        "colab_type": "text"
      },
      "source": [
        "##RecordArrays \n",
        "\n",
        "np.recarray class is identical to structured arrays but the only difference is that fileds can be accessed as attributes rather than dictionary keys"
      ]
    },
    {
      "cell_type": "code",
      "metadata": {
        "id": "h5DEIBVJQsd8",
        "colab_type": "code",
        "colab": {
          "base_uri": "https://localhost:8080/",
          "height": 34
        },
        "outputId": "e514e397-dae7-49cc-f94a-c0ab2de3c95c"
      },
      "source": [
        "data['age']"
      ],
      "execution_count": 91,
      "outputs": [
        {
          "output_type": "execute_result",
          "data": {
            "text/plain": [
              "array([25, 47, 37, 19], dtype=int32)"
            ]
          },
          "metadata": {
            "tags": []
          },
          "execution_count": 91
        }
      ]
    },
    {
      "cell_type": "code",
      "metadata": {
        "id": "vm_bLcmUSy64",
        "colab_type": "code",
        "colab": {
          "base_uri": "https://localhost:8080/",
          "height": 68
        },
        "outputId": "5af06871-5a5b-4935-a3fc-2249821b7331"
      },
      "source": [
        "data_rec = data.view(np.recarray)\n",
        "data_rec"
      ],
      "execution_count": 92,
      "outputs": [
        {
          "output_type": "execute_result",
          "data": {
            "text/plain": [
              "rec.array([('Alice', 25, 55. ), ('Bob', 47, 85.5), ('Cathy', 37, 68. ),\n",
              "           ('Doug', 19, 61.5)],\n",
              "          dtype=[('name', '<U10'), ('age', '<i4'), ('weight', '<f8')])"
            ]
          },
          "metadata": {
            "tags": []
          },
          "execution_count": 92
        }
      ]
    },
    {
      "cell_type": "code",
      "metadata": {
        "id": "if6Ai2VzTH4P",
        "colab_type": "code",
        "colab": {
          "base_uri": "https://localhost:8080/",
          "height": 34
        },
        "outputId": "ba08748c-7681-49db-ea6b-56e405d76aee"
      },
      "source": [
        "data_rec[0]"
      ],
      "execution_count": 93,
      "outputs": [
        {
          "output_type": "execute_result",
          "data": {
            "text/plain": [
              "('Alice', 25, 55.)"
            ]
          },
          "metadata": {
            "tags": []
          },
          "execution_count": 93
        }
      ]
    },
    {
      "cell_type": "code",
      "metadata": {
        "id": "M6WKjdl9TOXk",
        "colab_type": "code",
        "colab": {
          "base_uri": "https://localhost:8080/",
          "height": 34
        },
        "outputId": "5a26c26e-bf23-4c1e-c8fc-b1c17a38fd3f"
      },
      "source": [
        "data_rec['age']"
      ],
      "execution_count": 94,
      "outputs": [
        {
          "output_type": "execute_result",
          "data": {
            "text/plain": [
              "array([25, 47, 37, 19], dtype=int32)"
            ]
          },
          "metadata": {
            "tags": []
          },
          "execution_count": 94
        }
      ]
    },
    {
      "cell_type": "code",
      "metadata": {
        "id": "YOTdsaLSTRw8",
        "colab_type": "code",
        "colab": {
          "base_uri": "https://localhost:8080/",
          "height": 34
        },
        "outputId": "f0f31a86-cd05-4781-e418-1316bac483e2"
      },
      "source": [
        "data_rec.age"
      ],
      "execution_count": 95,
      "outputs": [
        {
          "output_type": "execute_result",
          "data": {
            "text/plain": [
              "array([25, 47, 37, 19], dtype=int32)"
            ]
          },
          "metadata": {
            "tags": []
          },
          "execution_count": 95
        }
      ]
    },
    {
      "cell_type": "code",
      "metadata": {
        "id": "SsqDiCLHUPfI",
        "colab_type": "code",
        "colab": {
          "base_uri": "https://localhost:8080/",
          "height": 119
        },
        "outputId": "adc410ff-b4f2-4116-8db7-5d092a94b8ea"
      },
      "source": [
        "%timeit data['age']\n",
        "%timeit data_rec['age']\n",
        "%timeit data_rec.age"
      ],
      "execution_count": 96,
      "outputs": [
        {
          "output_type": "stream",
          "text": [
            "The slowest run took 55.79 times longer than the fastest. This could mean that an intermediate result is being cached.\n",
            "10000000 loops, best of 3: 137 ns per loop\n",
            "The slowest run took 6.71 times longer than the fastest. This could mean that an intermediate result is being cached.\n",
            "100000 loops, best of 3: 2.82 µs per loop\n",
            "The slowest run took 5.41 times longer than the fastest. This could mean that an intermediate result is being cached.\n",
            "100000 loops, best of 3: 3.65 µs per loop\n"
          ],
          "name": "stdout"
        }
      ]
    }
  ]
}